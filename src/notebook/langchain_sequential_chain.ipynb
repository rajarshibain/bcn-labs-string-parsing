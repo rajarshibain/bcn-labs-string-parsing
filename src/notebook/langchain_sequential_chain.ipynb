{
 "cells": [
  {
   "cell_type": "code",
   "execution_count": 156,
   "metadata": {},
   "outputs": [],
   "source": [
    "import openai\n",
    "import pandas as pd\n",
    "import numpy as np\n",
    "import yaml\n",
    "import os\n",
    "import openai\n",
    "from openai.embeddings_utils import cosine_similarity\n",
    "from openai.embeddings_utils import get_embedding\n",
    "from openai.embeddings_utils import cosine_similarity\n",
    "import swifter\n",
    "from configparser import ConfigParser\n",
    "from langchain.llms import OpenAI\n",
    "import langchain\n",
    "from langchain.llms import OpenAI\n",
    "from langchain.prompts import ChatPromptTemplate\n",
    "from langchain.chains import LLMChain\n",
    "from langchain.prompts import PromptTemplate\n",
    "from langchain.chains import SequentialChain\n",
    "from langchain.chat_models import ChatOpenAI"
   ]
  },
  {
   "cell_type": "code",
   "execution_count": 155,
   "metadata": {},
   "outputs": [],
   "source": [
    "api_key = \"YOUR API KEY\""
   ]
  },
  {
   "cell_type": "markdown",
   "metadata": {},
   "source": [
    "## Prompt Template"
   ]
  },
  {
   "cell_type": "markdown",
   "metadata": {},
   "source": [
    "#### Category"
   ]
  },
  {
   "cell_type": "code",
   "execution_count": 127,
   "metadata": {},
   "outputs": [
    {
     "data": {
      "text/plain": [
       "'Nuts and Crackers'"
      ]
     },
     "execution_count": 127,
     "metadata": {},
     "output_type": "execute_result"
    }
   ],
   "source": [
    "llm = ChatOpenAI(model = 'gpt-4', temperature= .7, openai_api_key = api_key )\n",
    "\n",
    "level1_template = \"\"\"\n",
    "You are an expert in understanding Retail SKUs.\n",
    "What is the particular category of this SKU: {SKU} among the different kinds of categories inside snack.\n",
    "\n",
    "Return only the output and nothing else. If you don't know the answer, reply Not Applicable.\n",
    "Strictly review your output.\n",
    "\"\"\"\n",
    "level1_prompt_template = PromptTemplate(input_variables=['SKU'], template = level1_template)\n",
    "level1_chain = LLMChain(llm=llm, prompt= level1_prompt_template, output_key=\"category\")\n",
    "\n",
    "level1_chain.run(SKU = 'TONG GARDEN PEANUT & CRACKER 50G')"
   ]
  },
  {
   "cell_type": "markdown",
   "metadata": {},
   "source": [
    "#### Brand Name"
   ]
  },
  {
   "cell_type": "code",
   "execution_count": 129,
   "metadata": {},
   "outputs": [
    {
     "data": {
      "text/plain": [
       "'Tong Garden'"
      ]
     },
     "execution_count": 129,
     "metadata": {},
     "output_type": "execute_result"
    }
   ],
   "source": [
    "level2_template = '''\n",
    "\n",
    "You are an expert in understanding Retails SKUs. \n",
    "Please find out the brand name or comapny name, from the sku and category information mentioned below\n",
    "sku: {SKU} \n",
    "category: {category}\n",
    "\n",
    "Return only the output and nothing else. If you don't know the answer, reply Not Applicable.\n",
    "Strictly review your output.\n",
    "'''\n",
    "\n",
    "level2_prompt_template = PromptTemplate(input_variables=['SKU', 'category' ], template = level2_template)\n",
    "level2_chain = LLMChain(llm=llm, prompt= level2_prompt_template, output_key=\"brand_name\")\n",
    "\n",
    "level2_chain.run(SKU = 'TONG GARDEN PEANUT & CRACKER 50G', category = 'peanuts')"
   ]
  },
  {
   "cell_type": "markdown",
   "metadata": {},
   "source": [
    "#### Pack Size"
   ]
  },
  {
   "cell_type": "code",
   "execution_count": 131,
   "metadata": {},
   "outputs": [
    {
     "data": {
      "text/plain": [
       "'Small'"
      ]
     },
     "execution_count": 131,
     "metadata": {},
     "output_type": "execute_result"
    }
   ],
   "source": [
    "level3_template = '''\n",
    "\n",
    "You are an expert in understanding Retails SKUs. \n",
    "What is the pack size for the SKU : {SKU}, given the category is {category} and brand name is {brand_name}.\n",
    "\n",
    "Note that, different categories might have different pack sizes. Use your best judgement with the category and brand name.\n",
    "Your output should be between Small, Medium, Large, Not Applicable. Return only the output and nothing else. \n",
    "Strictly review your output.\n",
    "'''\n",
    "\n",
    "level3_prompt_template = PromptTemplate(input_variables=['SKU', 'category', 'brand_name' ], template = level3_template)\n",
    "level3_chain = LLMChain(llm=llm, prompt= level3_prompt_template, output_key= \"pack_size\")\n",
    "\n",
    "level3_chain.run(SKU = 'TONG GARDEN PEANUT & CRACKER 50G', category = 'peanuts', brand_name = 'Tong Garden')"
   ]
  },
  {
   "cell_type": "markdown",
   "metadata": {},
   "source": [
    "#### Flavour"
   ]
  },
  {
   "cell_type": "code",
   "execution_count": 139,
   "metadata": {},
   "outputs": [
    {
     "data": {
      "text/plain": [
       "'Not Applicable'"
      ]
     },
     "execution_count": 139,
     "metadata": {},
     "output_type": "execute_result"
    }
   ],
   "source": [
    "level4_template = '''\n",
    "You are an expert in understanding Retails SKUs. \n",
    "For a given snack which belongs to category: {category} , made by this brand name: {brand_name}, available in pack size: {pack_size}.\n",
    "What is the flavour of snack with SKU: {SKU}?\n",
    "Flavour is something related to taste sensation.\n",
    "Return only the output and nothing else. If you don't know the answer, reply Not Applicable.\n",
    "Strictly review your output.\n",
    "'''\n",
    "\n",
    "level4_prompt_template = PromptTemplate(input_variables=['SKU', 'category', 'brand_name', 'pack_size' ], template = level4_template)\n",
    "level4_chain = LLMChain(llm=llm, prompt= level4_prompt_template, output_key= \"flavour\")\n",
    "\n",
    "level4_chain.run(SKU = 'TONG GARDEN PEANUT & CRACKER 50G', category = 'peanuts', brand_name = 'Tong Garden', pack_size = 'Small' )"
   ]
  },
  {
   "cell_type": "markdown",
   "metadata": {},
   "source": [
    "#### Type"
   ]
  },
  {
   "cell_type": "code",
   "execution_count": 145,
   "metadata": {},
   "outputs": [
    {
     "data": {
      "text/plain": [
       "'Peanut'"
      ]
     },
     "execution_count": 145,
     "metadata": {},
     "output_type": "execute_result"
    }
   ],
   "source": [
    "level5_template = '''\n",
    "You are an expert in understanding Retails SKUs. \n",
    "What would be the sub-category of snack for SKU: {SKU}.\n",
    "Given the category of the snack is {category} , made by brand/company {brand_name} available in pack size {pack_size}  \n",
    "\n",
    "Here are some examples for you to understand: \n",
    "\n",
    "SKU: CAMEL CRACKER PEANUT 40G,\n",
    "Sub-category: Peanut\n",
    "SKU: COMBYWIDE KARI KACANG SEPAT 110G\n",
    "Sub-category: KACANG\n",
    "\n",
    "Return only the output and nothing else. If you don't know the answer, reply Don't Know.\n",
    "\n",
    "Strictly review your output.\n",
    "'''\n",
    "\n",
    "level5_prompt_template = PromptTemplate(input_variables=['SKU', 'category', 'brand_name', 'pack_size' ], template = level5_template)\n",
    "level5_chain = LLMChain(llm=llm, prompt= level5_prompt_template, output_key= \"type\")\n",
    "\n",
    "level5_chain.run(SKU = 'TONG GARDEN PEANUT & CRACKER 50G', category = 'peanuts', brand_name = 'Tong Garden', pack_size = 'Small')"
   ]
  },
  {
   "cell_type": "markdown",
   "metadata": {},
   "source": [
    "#### Sequential Chain"
   ]
  },
  {
   "cell_type": "code",
   "execution_count": 146,
   "metadata": {},
   "outputs": [
    {
     "name": "stdout",
     "output_type": "stream",
     "text": [
      "\n",
      "\n",
      "\u001b[1m> Entering new SequentialChain chain...\u001b[0m\n",
      "\n",
      "\u001b[1m> Finished chain.\u001b[0m\n"
     ]
    },
    {
     "data": {
      "text/plain": [
       "{'SKU': 'PIATTOS SNACK SP 75G',\n",
       " 'category': 'Potato Chips',\n",
       " 'brand_name': 'Piattos',\n",
       " 'pack_size': 'Small',\n",
       " 'flavour': 'Not Applicable',\n",
       " 'type': 'Potato Chips'}"
      ]
     },
     "execution_count": 146,
     "metadata": {},
     "output_type": "execute_result"
    }
   ],
   "source": [
    "# This is the overall chain where we run these two chains in sequence.\n",
    "from langchain.chains import SequentialChain\n",
    "overall_chain = SequentialChain(\n",
    "    chains=[level1_chain, level2_chain, level3_chain, level4_chain, level5_chain],\n",
    "    input_variables=[\"SKU\"],\n",
    "    output_variables=['category' ,\"brand_name\", \"pack_size\", \"flavour\", \"type\"],\n",
    "    verbose=True)\n",
    "\n",
    "overall_chain({ \"SKU\": \"PIATTOS SNACK SP 75G\"})\n"
   ]
  },
  {
   "cell_type": "code",
   "execution_count": 101,
   "metadata": {},
   "outputs": [
    {
     "name": "stderr",
     "output_type": "stream",
     "text": [
      "c:\\Users\\66660\\Anaconda3\\lib\\site-packages\\openpyxl\\worksheet\\header_footer.py:48: UserWarning: Cannot parse header or footer so it will be ignored\n",
      "  warn(\"\"\"Cannot parse header or footer so it will be ignored\"\"\")\n"
     ]
    }
   ],
   "source": [
    "input_dataset = pd.read_excel(r\"C:\\Users\\66660\\Documents\\Projects\\bcn-labs-string-parsing\\data\\raw\\input_dataset.xlsx\")\n",
    "sku = input_dataset['Description'].str[13:].to_list()\n",
    "\n",
    "top25_sku = sku[0:25]"
   ]
  },
  {
   "cell_type": "markdown",
   "metadata": {},
   "source": [
    "#### Examples"
   ]
  },
  {
   "cell_type": "code",
   "execution_count": 147,
   "metadata": {},
   "outputs": [
    {
     "name": "stdout",
     "output_type": "stream",
     "text": [
      "\n",
      "\n",
      "\u001b[1m> Entering new SequentialChain chain...\u001b[0m\n",
      "\n",
      "\u001b[1m> Finished chain.\u001b[0m\n"
     ]
    },
    {
     "data": {
      "text/plain": [
       "{'SKU': 'KOREAN COLOR CURRY POPCORN 80G',\n",
       " 'category': 'Flavored Popcorn',\n",
       " 'brand_name': 'Not Applicable',\n",
       " 'pack_size': 'Small',\n",
       " 'flavour': 'Korean Color Curry',\n",
       " 'type': 'Curry Popcorn'}"
      ]
     },
     "execution_count": 147,
     "metadata": {},
     "output_type": "execute_result"
    }
   ],
   "source": [
    "overall_chain({\"SKU\" : top25_sku[0]})"
   ]
  },
  {
   "cell_type": "code",
   "execution_count": 148,
   "metadata": {},
   "outputs": [
    {
     "name": "stdout",
     "output_type": "stream",
     "text": [
      "\n",
      "\n",
      "\u001b[1m> Entering new SequentialChain chain...\u001b[0m\n",
      "\n",
      "\u001b[1m> Finished chain.\u001b[0m\n"
     ]
    },
    {
     "data": {
      "text/plain": [
       "{'SKU': 'TONG GARDEN SUNFLOWER SEEDS NO SHELL 130G',\n",
       " 'category': 'Seeds and Nuts Snacks',\n",
       " 'brand_name': 'Tong Garden',\n",
       " 'pack_size': 'Small',\n",
       " 'flavour': 'Not Applicable',\n",
       " 'type': 'Sunflower Seeds'}"
      ]
     },
     "execution_count": 148,
     "metadata": {},
     "output_type": "execute_result"
    }
   ],
   "source": [
    "overall_chain({\"SKU\" : top25_sku[1]})"
   ]
  },
  {
   "cell_type": "code",
   "execution_count": 149,
   "metadata": {},
   "outputs": [
    {
     "name": "stdout",
     "output_type": "stream",
     "text": [
      "\n",
      "\n",
      "\u001b[1m> Entering new SequentialChain chain...\u001b[0m\n",
      "\n",
      "\u001b[1m> Finished chain.\u001b[0m\n"
     ]
    },
    {
     "data": {
      "text/plain": [
       "{'SKU': 'WHITE PUMPKIN SEED 500G',\n",
       " 'category': 'Nuts and Seeds',\n",
       " 'brand_name': 'Not Applicable',\n",
       " 'pack_size': 'Medium',\n",
       " 'flavour': 'Not Applicable',\n",
       " 'type': 'Pumpkin Seed'}"
      ]
     },
     "execution_count": 149,
     "metadata": {},
     "output_type": "execute_result"
    }
   ],
   "source": [
    "overall_chain({\"SKU\" : top25_sku[2]})"
   ]
  },
  {
   "cell_type": "code",
   "execution_count": 150,
   "metadata": {},
   "outputs": [
    {
     "name": "stdout",
     "output_type": "stream",
     "text": [
      "\n",
      "\n",
      "\u001b[1m> Entering new SequentialChain chain...\u001b[0m\n",
      "\n",
      "\u001b[1m> Finished chain.\u001b[0m\n"
     ]
    }
   ],
   "source": [
    "a =overall_chain({\"SKU\" : \"HWA YUAN POTATO CHIPS TAIWAN POPCORN CHICKEN FLA\"})\n"
   ]
  },
  {
   "cell_type": "code",
   "execution_count": 151,
   "metadata": {},
   "outputs": [
    {
     "data": {
      "text/plain": [
       "{'SKU': 'HWA YUAN POTATO CHIPS TAIWAN POPCORN CHICKEN FLA',\n",
       " 'category': 'Flavored Potato Chips',\n",
       " 'brand_name': 'Hwa Yuan',\n",
       " 'pack_size': 'Medium',\n",
       " 'flavour': 'Taiwan Popcorn Chicken',\n",
       " 'type': 'Popcorn Chicken'}"
      ]
     },
     "execution_count": 151,
     "metadata": {},
     "output_type": "execute_result"
    }
   ],
   "source": [
    "a"
   ]
  },
  {
   "cell_type": "code",
   "execution_count": 152,
   "metadata": {},
   "outputs": [
    {
     "name": "stdout",
     "output_type": "stream",
     "text": [
      "\n",
      "\n",
      "\u001b[1m> Entering new SequentialChain chain...\u001b[0m\n",
      "\n",
      "\u001b[1m> Finished chain.\u001b[0m\n",
      "{'SKU': 'KOREAN COLOR CURRY POPCORN 80G', 'category': 'Flavored Popcorn', 'brand_name': 'Not Applicable', 'pack_size': 'Small', 'flavour': 'Korean Color Curry', 'type': 'Curry Popcorn'}\n",
      "\n",
      "\n",
      "\u001b[1m> Entering new SequentialChain chain...\u001b[0m\n",
      "\n",
      "\u001b[1m> Finished chain.\u001b[0m\n",
      "{'SKU': 'TONG GARDEN SUNFLOWER SEEDS NO SHELL 130G', 'category': 'Seeds and Nuts Snacks', 'brand_name': 'Tong Garden', 'pack_size': 'Small', 'flavour': 'Not Applicable', 'type': 'Sunflower Seeds'}\n",
      "\n",
      "\n",
      "\u001b[1m> Entering new SequentialChain chain...\u001b[0m\n",
      "\n",
      "\u001b[1m> Finished chain.\u001b[0m\n",
      "{'SKU': 'WHITE PUMPKIN SEED 500G', 'category': 'Seeds & Nuts', 'brand_name': 'Not Applicable', 'pack_size': 'Medium', 'flavour': 'Not Applicable', 'type': 'Pumpkin Seed'}\n",
      "\n",
      "\n",
      "\u001b[1m> Entering new SequentialChain chain...\u001b[0m\n",
      "\n",
      "\u001b[1m> Finished chain.\u001b[0m\n",
      "{'SKU': 'TAISUN TREATZ VEGGIE STICKS 250G', 'category': 'Vegetable Snacks', 'brand_name': 'Taisun', 'pack_size': 'Medium', 'flavour': 'Not Applicable', 'type': 'Veggie Sticks'}\n",
      "\n",
      "\n",
      "\u001b[1m> Entering new SequentialChain chain...\u001b[0m\n",
      "\n",
      "\u001b[1m> Finished chain.\u001b[0m\n",
      "{'SKU': 'ALWI KACANG CORNFLAKES 40G', 'category': 'Nuts Snacks', 'brand_name': 'ALWI', 'pack_size': 'Small', 'flavour': 'Not Applicable', 'type': 'Cornflakes'}\n",
      "\n",
      "\n",
      "\u001b[1m> Entering new SequentialChain chain...\u001b[0m\n",
      "\n",
      "\u001b[1m> Finished chain.\u001b[0m\n",
      "{'SKU': 'WISE COTTAGE FRIES-TOMATO 90G', 'category': 'Potato Chips', 'brand_name': 'WISE', 'pack_size': 'Small', 'flavour': 'Tomato', 'type': 'TOMATO'}\n",
      "\n",
      "\n",
      "\u001b[1m> Entering new SequentialChain chain...\u001b[0m\n",
      "\n",
      "\u001b[1m> Finished chain.\u001b[0m\n",
      "{'SKU': 'MR POTATO CRISPS BBQ 150G', 'category': 'Potato Chips', 'brand_name': 'Mr Potato', 'pack_size': 'Medium', 'flavour': 'BBQ', 'type': 'BBQ'}\n",
      "\n",
      "\n",
      "\u001b[1m> Entering new SequentialChain chain...\u001b[0m\n",
      "\n",
      "\u001b[1m> Finished chain.\u001b[0m\n",
      "{'SKU': 'KP CHEESE FOOTBALLS CADDY PS 142G', 'category': 'Cheese Snacks', 'brand_name': 'KP', 'pack_size': 'Medium', 'flavour': 'Cheese', 'type': 'Football Snacks'}\n",
      "\n",
      "\n",
      "\u001b[1m> Entering new SequentialChain chain...\u001b[0m\n",
      "\n",
      "\u001b[1m> Finished chain.\u001b[0m\n",
      "{'SKU': 'GOLDEN CHAMP CALIFORNIA INSHELL R.ALMOND 500G', 'category': 'Nuts & Seeds', 'brand_name': 'Golden Champ', 'pack_size': 'Medium', 'flavour': 'Not Applicable', 'type': 'Almond'}\n",
      "\n",
      "\n",
      "\u001b[1m> Entering new SequentialChain chain...\u001b[0m\n",
      "\n",
      "\u001b[1m> Finished chain.\u001b[0m\n",
      "{'SKU': 'WIDE WAY PEANUT BIPANG 200G', 'category': 'Nuts and Seeds Snacks', 'brand_name': 'Wide Way', 'pack_size': 'Medium', 'flavour': 'Not Applicable', 'type': 'Peanut'}\n",
      "\n",
      "\n",
      "\u001b[1m> Entering new SequentialChain chain...\u001b[0m\n",
      "\n",
      "\u001b[1m> Finished chain.\u001b[0m\n",
      "{'SKU': 'I MEI-MILK PUFF 57G', 'category': 'Puffed Snacks', 'brand_name': 'I MEI', 'pack_size': 'Small', 'flavour': 'Milk', 'type': 'Milk Puff'}\n",
      "\n",
      "\n",
      "\u001b[1m> Entering new SequentialChain chain...\u001b[0m\n",
      "\n",
      "\u001b[1m> Finished chain.\u001b[0m\n",
      "{'SKU': 'CAMEL IKAN BILIS PEANUT 40G', 'category': 'Nuts and Seeds Snacks', 'brand_name': 'Camel', 'pack_size': 'Small', 'flavour': 'Ikan Bilis Peanut', 'type': 'IKAN BILIS PEANUT'}\n",
      "\n",
      "\n",
      "\u001b[1m> Entering new SequentialChain chain...\u001b[0m\n",
      "\n",
      "\u001b[1m> Finished chain.\u001b[0m\n",
      "{'SKU': 'MAJANS BHUJA HOT MIX 150G', 'category': 'Spicy Snacks', 'brand_name': 'Majans Bhuja', 'pack_size': 'Small', 'flavour': 'Hot Mix', 'type': 'Hot Mix'}\n",
      "\n",
      "\n",
      "\u001b[1m> Entering new SequentialChain chain...\u001b[0m\n",
      "\n",
      "\u001b[1m> Finished chain.\u001b[0m\n",
      "{'SKU': 'CHIKI BALL CURIOUS CHOCO 200G', 'category': 'Chocolate Snacks', 'brand_name': 'Curious Choco', 'pack_size': 'Medium', 'flavour': 'Not Applicable', 'type': 'Ball'}\n",
      "\n",
      "\n",
      "\u001b[1m> Entering new SequentialChain chain...\u001b[0m\n",
      "\n",
      "\u001b[1m> Finished chain.\u001b[0m\n",
      "{'SKU': 'DAHFA FISH FILLET 120G', 'category': 'Fish Snacks', 'brand_name': 'DAHFA', 'pack_size': 'Small', 'flavour': 'Not Applicable', 'type': 'FISH FILLET'}\n",
      "\n",
      "\n",
      "\u001b[1m> Entering new SequentialChain chain...\u001b[0m\n",
      "\n",
      "\u001b[1m> Finished chain.\u001b[0m\n",
      "{'SKU': 'AG-PARTY PACK 6S 210G ( NT+GR)', 'category': 'Party Snacks', 'brand_name': 'Not Applicable', 'pack_size': 'Medium', 'flavour': 'Not Applicable', 'type': \"Don't Know\"}\n",
      "\n",
      "\n",
      "\u001b[1m> Entering new SequentialChain chain...\u001b[0m\n",
      "\n",
      "\u001b[1m> Finished chain.\u001b[0m\n",
      "{'SKU': 'JACK & JILL CALBEE FLAMIN CHILLI 60G', 'category': 'Flavored Chips', 'brand_name': 'Jack & Jill Calbee', 'pack_size': 'Small', 'flavour': 'Flamin Chilli', 'type': 'Flamin Chilli'}\n",
      "\n",
      "\n",
      "\u001b[1m> Entering new SequentialChain chain...\u001b[0m\n",
      "\n",
      "\u001b[1m> Finished chain.\u001b[0m\n",
      "{'SKU': 'PIATTOS SNACK SP 75G', 'category': 'Chips', 'brand_name': 'Piattos', 'pack_size': 'Small', 'flavour': 'Not Applicable', 'type': 'SP'}\n",
      "\n",
      "\n",
      "\u001b[1m> Entering new SequentialChain chain...\u001b[0m\n",
      "\n",
      "\u001b[1m> Finished chain.\u001b[0m\n",
      "{'SKU': 'ZOELIFE CASHEWNUTS ROASTED 100G', 'category': 'Nuts & Seeds', 'brand_name': 'Zoelife', 'pack_size': 'Small', 'flavour': 'Roasted', 'type': 'Cashewnuts'}\n",
      "\n",
      "\n",
      "\u001b[1m> Entering new SequentialChain chain...\u001b[0m\n",
      "\n",
      "\u001b[1m> Finished chain.\u001b[0m\n",
      "{'SKU': 'COMBYWIDE IKAN SATAY 42G', 'category': 'Fish Snacks', 'brand_name': 'COMBYWIDE', 'pack_size': 'Small', 'flavour': 'IKAN SATAY', 'type': 'IKAN SATAY'}\n",
      "\n",
      "\n",
      "\u001b[1m> Entering new SequentialChain chain...\u001b[0m\n",
      "\n",
      "\u001b[1m> Finished chain.\u001b[0m\n",
      "{'SKU': 'SIM KACANG LADANG KULIT 300G', 'category': 'Nuts and Seeds Snacks', 'brand_name': 'Not Applicable', 'pack_size': 'Small', 'flavour': 'Not Applicable', 'type': 'KACANG'}\n",
      "\n",
      "\n",
      "\u001b[1m> Entering new SequentialChain chain...\u001b[0m\n",
      "\n",
      "\u001b[1m> Finished chain.\u001b[0m\n",
      "{'SKU': 'HWA YUAN POTATO CHIPS – TAIWAN POPCORN CHICKEN FLA', 'category': 'Flavored Potato Chips', 'brand_name': 'Hwa Yuan', 'pack_size': 'Medium', 'flavour': 'Taiwan Popcorn Chicken', 'type': 'Popcorn Chicken'}\n",
      "\n",
      "\n",
      "\u001b[1m> Entering new SequentialChain chain...\u001b[0m\n",
      "\n",
      "\u001b[1m> Finished chain.\u001b[0m\n",
      "{'SKU': 'HEI PU TAO LI 300G', 'category': 'Dried Fruits', 'brand_name': 'Not Applicable', 'pack_size': 'Small', 'flavour': 'Not Applicable', 'type': 'PU TAO LI'}\n",
      "\n",
      "\n",
      "\u001b[1m> Entering new SequentialChain chain...\u001b[0m\n",
      "\n",
      "\u001b[1m> Finished chain.\u001b[0m\n",
      "{'SKU': 'TAO KAE NOI JAP.CRISPY SEAWEED HOTSPICY 15G', 'category': 'Seaweed Snacks', 'brand_name': 'Tao Kae Noi', 'pack_size': 'Small', 'flavour': 'Hot Spicy', 'type': 'Crispy Seaweed'}\n",
      "\n",
      "\n",
      "\u001b[1m> Entering new SequentialChain chain...\u001b[0m\n",
      "\n",
      "\u001b[1m> Finished chain.\u001b[0m\n",
      "{'SKU': 'GN PROBIOTIC CHIPS BARBECUE FLR 100G', 'category': 'Probiotic Chips', 'brand_name': 'GN', 'pack_size': 'Small', 'flavour': 'Barbecue', 'type': 'Barbecue'}\n"
     ]
    }
   ],
   "source": [
    "for i in range(len(top25_sku)):\n",
    "    print(overall_chain({\"SKU\" : top25_sku[i]}))"
   ]
  }
 ],
 "metadata": {
  "kernelspec": {
   "display_name": "base",
   "language": "python",
   "name": "python3"
  },
  "language_info": {
   "codemirror_mode": {
    "name": "ipython",
    "version": 3
   },
   "file_extension": ".py",
   "mimetype": "text/x-python",
   "name": "python",
   "nbconvert_exporter": "python",
   "pygments_lexer": "ipython3",
   "version": "3.9.13"
  },
  "orig_nbformat": 4
 },
 "nbformat": 4,
 "nbformat_minor": 2
}
