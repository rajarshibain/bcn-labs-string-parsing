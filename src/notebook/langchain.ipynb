{
 "cells": [
  {
   "cell_type": "code",
   "execution_count": 96,
   "metadata": {},
   "outputs": [],
   "source": [
    "import openai\n",
    "import pandas as pd\n",
    "import numpy as np\n",
    "import yaml\n",
    "import os\n",
    "from openai.embeddings_utils import cosine_similarity\n",
    "from openai.embeddings_utils import get_embedding\n",
    "from openai.embeddings_utils import cosine_similarity\n",
    "import swifter\n",
    "from configparser import ConfigParser"
   ]
  },
  {
   "cell_type": "code",
   "execution_count": 245,
   "metadata": {},
   "outputs": [
    {
     "data": {
      "text/plain": [
       "AIMessage(content='Seafood', additional_kwargs={}, example=False)"
      ]
     },
     "execution_count": 245,
     "metadata": {},
     "output_type": "execute_result"
    }
   ],
   "source": [
    "llm = ChatOpenAI(openai_api_key = openai_config['api_key'])\n",
    "llm(temp)"
   ]
  },
  {
   "cell_type": "markdown",
   "metadata": {},
   "source": [
    "## Prompt Template"
   ]
  },
  {
   "cell_type": "markdown",
   "metadata": {},
   "source": [
    "#### Category"
   ]
  },
  {
   "cell_type": "code",
   "execution_count": 339,
   "metadata": {},
   "outputs": [
    {
     "data": {
      "text/plain": [
       "'Seafood Snacks'"
      ]
     },
     "execution_count": 339,
     "metadata": {},
     "output_type": "execute_result"
    }
   ],
   "source": [
    "llm = ChatOpenAI(model = 'gpt-4', temperature= .7, openai_api_key = api_key )\n",
    "\n",
    "level1_template = \"\"\"\n",
    "You are an expert in understanding Retail SKUs. Among different categories of snacks it is your job to find out\n",
    "the particular category for the SKU given below.\n",
    "\n",
    "SKU: {SKU}\n",
    "\n",
    "Return only the output and nothing else. If you don't know the answer, reply Not Applicable.\n",
    "Strictly review your output.\n",
    "\"\"\"\n",
    "level1_prompt_template = PromptTemplate(input_variables=['SKU'], template = level1_template)\n",
    "level1_chain = LLMChain(llm=llm, prompt= level1_prompt_template, output_key=\"category\")\n",
    "\n",
    "level1_chain.run(SKU = 'NONGSHIM SHRIMP SNACK 75G')"
   ]
  },
  {
   "cell_type": "code",
   "execution_count": 341,
   "metadata": {},
   "outputs": [
    {
     "data": {
      "text/plain": [
       "'Tong Garden'"
      ]
     },
     "execution_count": 341,
     "metadata": {},
     "output_type": "execute_result"
    }
   ],
   "source": [
    "level2_template = '''\n",
    "\n",
    "You are an expert in understanding Retails SKUs. \n",
    "Please find out the brand name or comapny name, which creates snacks of the category: {category} and has the sku: {SKU}\n",
    "\n",
    "Return only the output and nothing else. If you don't know the answer, reply Not Applicable.\n",
    "Strictly review your output.\n",
    "'''\n",
    "\n",
    "level2_prompt_template = PromptTemplate(input_variables=['SKU', 'category' ], template = level2_template)\n",
    "level2_chain = LLMChain(llm=llm, prompt= level2_prompt_template, output_key=\"brand_name\")\n",
    "\n",
    "level2_chain.run(SKU = 'TONG GARDEN PEANUT & CRACKER 50G', category = 'peanuts')"
   ]
  },
  {
   "cell_type": "code",
   "execution_count": 343,
   "metadata": {},
   "outputs": [
    {
     "data": {
      "text/plain": [
       "'Small'"
      ]
     },
     "execution_count": 343,
     "metadata": {},
     "output_type": "execute_result"
    }
   ],
   "source": [
    "level3_template = '''\n",
    "\n",
    "You are an expert in understanding Retails SKUs. \n",
    "What is the pack size for the SKU : {SKU}, given the category is {category} and brand name is {brand_name}\n",
    "\n",
    "Use your best judgement with the category and brand name.\n",
    "Your output should be between Small, Medium, Large, Not Applicable. Return only the output and nothing else. \n",
    "Strictly review your output.\n",
    "'''\n",
    "\n",
    "level3_prompt_template = PromptTemplate(input_variables=['SKU', 'category', 'brand_name' ], template = level3_template)\n",
    "level3_chain = LLMChain(llm=llm, prompt= level3_prompt_template, output_key= \"pack_size\")\n",
    "\n",
    "level3_chain.run(SKU = 'TONG GARDEN PEANUT & CRACKER 50G', category = 'peanuts', brand_name = 'Tong Garden')"
   ]
  },
  {
   "cell_type": "code",
   "execution_count": 350,
   "metadata": {},
   "outputs": [
    {
     "data": {
      "text/plain": [
       "'Peanut & Cracker'"
      ]
     },
     "execution_count": 350,
     "metadata": {},
     "output_type": "execute_result"
    }
   ],
   "source": [
    "level4_template = '''\n",
    "\n",
    "You are an expert in understanding Retails SKUs. \n",
    "For a given snack which belongs to category: {category} , made by this brand name: {brand_name}, available in pack size: {pack_size}.\n",
    "What is the flavour or taste of snack with SKU: {SKU}?\n",
    "\n",
    "\n",
    "Return only the output and nothing else. If you don't know the answer, reply Don't Know.\n",
    "Strictly review your output.\n",
    "'''\n",
    "\n",
    "level4_prompt_template = PromptTemplate(input_variables=['SKU', 'category', 'brand_name', 'pack_size' ], template = level4_template)\n",
    "level4_chain = LLMChain(llm=llm, prompt= level4_prompt_template, output_key= \"flavour\")\n",
    "\n",
    "level4_chain.run(SKU = 'TONG GARDEN PEANUT & CRACKER 50G', category = 'peanuts', brand_name = 'Tong Garden', pack_size = 'Small' )"
   ]
  },
  {
   "cell_type": "code",
   "execution_count": 361,
   "metadata": {},
   "outputs": [
    {
     "data": {
      "text/plain": [
       "'Peanuts'"
      ]
     },
     "execution_count": 361,
     "metadata": {},
     "output_type": "execute_result"
    }
   ],
   "source": [
    "level5_template = '''\n",
    "You are an expert in understanding Retails SKUs. \n",
    "What would be the type of snack for SKU: {SKU}.\n",
    "Given the category of the snack is {category} , made by brand/company {brand_name} available in pack size {pack_size} and the flavour is {flavour}  and \n",
    "\n",
    "Return only the output and nothing else. If you don't know the answer, reply Don't Know.\n",
    "\n",
    "Strictly review your output.\n",
    "'''\n",
    "\n",
    "level5_prompt_template = PromptTemplate(input_variables=['SKU', 'category', 'brand_name', 'pack_size', 'flavour' ], template = level5_template)\n",
    "level5_chain = LLMChain(llm=llm, prompt= level5_prompt_template, output_key= \"type\")\n",
    "\n",
    "level5_chain.run(SKU = 'TONG GARDEN PEANUT & CRACKER 50G', category = 'peanuts', brand_name = 'Tong Garden', pack_size = 'Small', flavour = 'Cracker' )"
   ]
  },
  {
   "cell_type": "code",
   "execution_count": 353,
   "metadata": {},
   "outputs": [
    {
     "name": "stdout",
     "output_type": "stream",
     "text": [
      "\n",
      "\n",
      "\u001b[1m> Entering new SequentialChain chain...\u001b[0m\n",
      "\n",
      "\u001b[1m> Finished chain.\u001b[0m\n"
     ]
    },
    {
     "data": {
      "text/plain": [
       "{'SKU': 'TONG GARDEN PEANUT & CRACKER 50G',\n",
       " 'category': 'Nuts and Seeds',\n",
       " 'brand_name': 'Tong Garden',\n",
       " 'pack_size': 'Small',\n",
       " 'flavour': 'Peanut & Cracker',\n",
       " 'type': 'Nuts and Seeds'}"
      ]
     },
     "execution_count": 353,
     "metadata": {},
     "output_type": "execute_result"
    }
   ],
   "source": [
    "# This is the overall chain where we run these two chains in sequence.\n",
    "from langchain.chains import SequentialChain\n",
    "overall_chain = SequentialChain(\n",
    "    chains=[level1_chain, level2_chain, level3_chain, level4_chain, level5_chain],\n",
    "    input_variables=[\"SKU\"],\n",
    "    output_variables=['category' ,\"brand_name\", \"pack_size\", \"flavour\", \"type\"],\n",
    "    verbose=True)\n",
    "\n",
    "overall_chain({ \"SKU\": \"TONG GARDEN PEANUT & CRACKER 50G\"})"
   ]
  },
  {
   "cell_type": "code",
   "execution_count": 354,
   "metadata": {},
   "outputs": [
    {
     "name": "stdout",
     "output_type": "stream",
     "text": [
      "\n",
      "\n",
      "\u001b[1m> Entering new SequentialChain chain...\u001b[0m\n",
      "\n",
      "\u001b[1m> Finished chain.\u001b[0m\n"
     ]
    },
    {
     "data": {
      "text/plain": [
       "{'SKU': 'PIATTOS SNACK SP 75G',\n",
       " 'category': 'Chips',\n",
       " 'brand_name': 'Not Applicable',\n",
       " 'pack_size': 'Small',\n",
       " 'flavour': \"Don't Know\",\n",
       " 'type': \"Don't Know\"}"
      ]
     },
     "execution_count": 354,
     "metadata": {},
     "output_type": "execute_result"
    }
   ],
   "source": [
    "overall_chain({ \"SKU\": \"PIATTOS SNACK SP 75G\"})"
   ]
  },
  {
   "cell_type": "code",
   "execution_count": 355,
   "metadata": {},
   "outputs": [
    {
     "name": "stderr",
     "output_type": "stream",
     "text": [
      "c:\\Users\\66660\\Anaconda3\\lib\\site-packages\\openpyxl\\worksheet\\header_footer.py:48: UserWarning: Cannot parse header or footer so it will be ignored\n",
      "  warn(\"\"\"Cannot parse header or footer so it will be ignored\"\"\")\n"
     ]
    }
   ],
   "source": [
    "input_dataset = pd.read_excel(r\"C:\\Users\\66660\\Documents\\Projects\\bcn-labs-string-parsing\\data\\raw\\input_dataset.xlsx\")\n",
    "sku = input_dataset['Description'].str[13:].to_list()\n",
    "\n",
    "top20_sku = sku[0:20]"
   ]
  },
  {
   "cell_type": "code",
   "execution_count": 356,
   "metadata": {},
   "outputs": [
    {
     "name": "stdout",
     "output_type": "stream",
     "text": [
      "\n",
      "\n",
      "\u001b[1m> Entering new SequentialChain chain...\u001b[0m\n"
     ]
    },
    {
     "name": "stdout",
     "output_type": "stream",
     "text": [
      "\n",
      "\u001b[1m> Finished chain.\u001b[0m\n"
     ]
    },
    {
     "data": {
      "text/plain": [
       "{'SKU': 'KOREAN COLOR CURRY POPCORN 80G',\n",
       " 'category': 'Popcorn',\n",
       " 'brand_name': 'Not Applicable',\n",
       " 'pack_size': 'Small',\n",
       " 'flavour': 'Color Curry',\n",
       " 'type': 'Korean Color Curry Popcorn'}"
      ]
     },
     "execution_count": 356,
     "metadata": {},
     "output_type": "execute_result"
    }
   ],
   "source": [
    "overall_chain({\"SKU\" : top20_sku[0]})"
   ]
  },
  {
   "cell_type": "code",
   "execution_count": 357,
   "metadata": {},
   "outputs": [
    {
     "name": "stdout",
     "output_type": "stream",
     "text": [
      "\n",
      "\n",
      "\u001b[1m> Entering new SequentialChain chain...\u001b[0m\n",
      "\n",
      "\u001b[1m> Finished chain.\u001b[0m\n"
     ]
    },
    {
     "data": {
      "text/plain": [
       "{'SKU': 'TONG GARDEN SUNFLOWER SEEDS NO SHELL 130G',\n",
       " 'category': 'Seeds & Nuts',\n",
       " 'brand_name': 'Tong Garden',\n",
       " 'pack_size': 'Small',\n",
       " 'flavour': \"Don't Know\",\n",
       " 'type': 'Sunflower Seeds'}"
      ]
     },
     "execution_count": 357,
     "metadata": {},
     "output_type": "execute_result"
    }
   ],
   "source": [
    "overall_chain({\"SKU\" : top20_sku[1]})"
   ]
  },
  {
   "cell_type": "code",
   "execution_count": 358,
   "metadata": {},
   "outputs": [
    {
     "name": "stdout",
     "output_type": "stream",
     "text": [
      "\n",
      "\n",
      "\u001b[1m> Entering new SequentialChain chain...\u001b[0m\n",
      "\n",
      "\u001b[1m> Finished chain.\u001b[0m\n"
     ]
    },
    {
     "data": {
      "text/plain": [
       "{'SKU': 'WHITE PUMPKIN SEED 500G',\n",
       " 'category': 'Seeds & Nuts',\n",
       " 'brand_name': 'Not Applicable',\n",
       " 'pack_size': 'Medium',\n",
       " 'flavour': \"Don't Know\",\n",
       " 'type': 'White Pumpkin Seed'}"
      ]
     },
     "execution_count": 358,
     "metadata": {},
     "output_type": "execute_result"
    }
   ],
   "source": [
    "overall_chain({\"SKU\" : top20_sku[2]})"
   ]
  },
  {
   "cell_type": "code",
   "execution_count": 359,
   "metadata": {},
   "outputs": [
    {
     "name": "stdout",
     "output_type": "stream",
     "text": [
      "\n",
      "\n",
      "\u001b[1m> Entering new SequentialChain chain...\u001b[0m\n",
      "\n",
      "\u001b[1m> Finished chain.\u001b[0m\n"
     ]
    },
    {
     "data": {
      "text/plain": [
       "{'SKU': 'HWA YUAN POTATO CHIPS TAIWAN POPCORN CHICKEN FLA',\n",
       " 'category': 'Potato Chips',\n",
       " 'brand_name': 'Hwa Yuan',\n",
       " 'pack_size': 'Not Applicable',\n",
       " 'flavour': 'Popcorn Chicken',\n",
       " 'type': 'Popcorn Chicken Flavored Potato Chips'}"
      ]
     },
     "execution_count": 359,
     "metadata": {},
     "output_type": "execute_result"
    }
   ],
   "source": [
    "overall_chain({\"SKU\" : \"HWA YUAN POTATO CHIPS TAIWAN POPCORN CHICKEN FLA\"})\n"
   ]
  },
  {
   "cell_type": "code",
   "execution_count": 364,
   "metadata": {},
   "outputs": [
    {
     "name": "stdout",
     "output_type": "stream",
     "text": [
      "\n",
      "\n",
      "\u001b[1m> Entering new SequentialChain chain...\u001b[0m\n",
      "\n",
      "\u001b[1m> Finished chain.\u001b[0m\n",
      "{'SKU': 'KOREAN COLOR CURRY POPCORN 80G', 'category': 'Popcorn', 'brand_name': 'Not Applicable', 'pack_size': 'Small', 'flavour': 'Color Curry', 'type': 'Color Curry Popcorn'}\n",
      "\n",
      "\n",
      "\u001b[1m> Entering new SequentialChain chain...\u001b[0m\n",
      "\n",
      "\u001b[1m> Finished chain.\u001b[0m\n",
      "{'SKU': 'TONG GARDEN SUNFLOWER SEEDS NO SHELL 130G', 'category': 'Seeds and Nuts', 'brand_name': 'Tong Garden', 'pack_size': 'Small', 'flavour': \"Don't Know\", 'type': 'Sunflower Seeds'}\n",
      "\n",
      "\n",
      "\u001b[1m> Entering new SequentialChain chain...\u001b[0m\n",
      "\n",
      "\u001b[1m> Finished chain.\u001b[0m\n",
      "{'SKU': 'WHITE PUMPKIN SEED 500G', 'category': 'Seeds & Nuts', 'brand_name': 'Not Applicable', 'pack_size': 'Medium', 'flavour': \"Don't Know\", 'type': 'White Pumpkin Seed'}\n",
      "\n",
      "\n",
      "\u001b[1m> Entering new SequentialChain chain...\u001b[0m\n",
      "\n",
      "\u001b[1m> Finished chain.\u001b[0m\n",
      "{'SKU': 'TAISUN TREATZ VEGGIE STICKS 250G', 'category': 'Veggie Snacks', 'brand_name': 'Taisun', 'pack_size': 'Medium', 'flavour': \"Don't Know\", 'type': 'Veggie Sticks'}\n",
      "\n",
      "\n",
      "\u001b[1m> Entering new SequentialChain chain...\u001b[0m\n",
      "\n",
      "\u001b[1m> Finished chain.\u001b[0m\n",
      "{'SKU': 'ALWI KACANG CORNFLAKES 40G', 'category': 'Cornflakes', 'brand_name': 'ALWI', 'pack_size': 'Small', 'flavour': 'Kacang', 'type': 'Cornflakes'}\n",
      "\n",
      "\n",
      "\u001b[1m> Entering new SequentialChain chain...\u001b[0m\n",
      "\n",
      "\u001b[1m> Finished chain.\u001b[0m\n",
      "{'SKU': 'WISE COTTAGE FRIES-TOMATO 90G', 'category': 'Potato Chips', 'brand_name': 'WISE', 'pack_size': 'Small', 'flavour': 'Tomato', 'type': 'Potato Chips'}\n",
      "\n",
      "\n",
      "\u001b[1m> Entering new SequentialChain chain...\u001b[0m\n",
      "\n",
      "\u001b[1m> Finished chain.\u001b[0m\n",
      "{'SKU': 'MR POTATO CRISPS BBQ 150G', 'category': 'Potato Chips', 'brand_name': 'Mr Potato', 'pack_size': 'Small', 'flavour': 'BBQ', 'type': 'Potato Chips'}\n",
      "\n",
      "\n",
      "\u001b[1m> Entering new SequentialChain chain...\u001b[0m\n",
      "\n",
      "\u001b[1m> Finished chain.\u001b[0m\n",
      "{'SKU': 'KP CHEESE FOOTBALLS CADDY PS 142G', 'category': 'Cheese Snacks', 'brand_name': 'KP', 'pack_size': 'Small', 'flavour': 'Cheese', 'type': 'Cheese Footballs'}\n",
      "\n",
      "\n",
      "\u001b[1m> Entering new SequentialChain chain...\u001b[0m\n",
      "\n",
      "\u001b[1m> Finished chain.\u001b[0m\n",
      "{'SKU': 'GOLDEN CHAMP CALIFORNIA INSHELL R.ALMOND 500G', 'category': 'Nuts & Seeds', 'brand_name': 'Golden Champ', 'pack_size': 'Medium', 'flavour': \"Don't Know\", 'type': 'Almonds'}\n",
      "\n",
      "\n",
      "\u001b[1m> Entering new SequentialChain chain...\u001b[0m\n",
      "\n",
      "\u001b[1m> Finished chain.\u001b[0m\n",
      "{'SKU': 'WIDE WAY PEANUT BIPANG 200G', 'category': 'Peanuts', 'brand_name': 'Wide Way', 'pack_size': 'Small', 'flavour': \"Don't Know\", 'type': \"Don't Know\"}\n",
      "\n",
      "\n",
      "\u001b[1m> Entering new SequentialChain chain...\u001b[0m\n",
      "\n",
      "\u001b[1m> Finished chain.\u001b[0m\n",
      "{'SKU': 'I MEI-MILK PUFF 57G', 'category': 'Puffed Snacks', 'brand_name': 'I Mei', 'pack_size': 'Small', 'flavour': 'Milk', 'type': 'Puffed Snacks'}\n",
      "\n",
      "\n",
      "\u001b[1m> Entering new SequentialChain chain...\u001b[0m\n",
      "\n",
      "\u001b[1m> Finished chain.\u001b[0m\n",
      "{'SKU': 'CAMEL IKAN BILIS PEANUT 40G', 'category': 'Nuts and Seeds', 'brand_name': 'Camel', 'pack_size': 'Small', 'flavour': 'Ikan Bilis Peanut', 'type': 'Nuts and Seeds'}\n",
      "\n",
      "\n",
      "\u001b[1m> Entering new SequentialChain chain...\u001b[0m\n",
      "\n",
      "\u001b[1m> Finished chain.\u001b[0m\n",
      "{'SKU': 'MAJANS BHUJA HOT MIX 150G', 'category': 'Mixed Snacks', 'brand_name': 'Majans', 'pack_size': 'Small', 'flavour': 'Hot Mix', 'type': 'Mixed Snacks'}\n",
      "\n",
      "\n",
      "\u001b[1m> Entering new SequentialChain chain...\u001b[0m\n",
      "\n",
      "\u001b[1m> Finished chain.\u001b[0m\n",
      "{'SKU': 'CHIKI BALL CURIOUS CHOCO 200G', 'category': 'Chocolate Snacks', 'brand_name': 'Not Applicable', 'pack_size': 'Small', 'flavour': \"Don't Know\", 'type': 'Chocolate Balls'}\n",
      "\n",
      "\n",
      "\u001b[1m> Entering new SequentialChain chain...\u001b[0m\n",
      "\n",
      "\u001b[1m> Finished chain.\u001b[0m\n",
      "{'SKU': 'DAHFA FISH FILLET 120G', 'category': 'Seafood Snacks', 'brand_name': 'Dahfa', 'pack_size': 'Small', 'flavour': \"Don't Know\", 'type': 'Fish Fillet'}\n",
      "\n",
      "\n",
      "\u001b[1m> Entering new SequentialChain chain...\u001b[0m\n",
      "\n",
      "\u001b[1m> Finished chain.\u001b[0m\n",
      "{'SKU': 'AG-PARTY PACK 6S 210G ( NT+GR)', 'category': 'Not Applicable', 'brand_name': 'Not Applicable', 'pack_size': 'Medium', 'flavour': \"Don't Know\", 'type': \"Don't Know\"}\n",
      "\n",
      "\n",
      "\u001b[1m> Entering new SequentialChain chain...\u001b[0m\n",
      "\n",
      "\u001b[1m> Finished chain.\u001b[0m\n",
      "{'SKU': 'JACK & JILL CALBEE FLAMIN CHILLI 60G', 'category': 'Chips & Crisps', 'brand_name': 'Jack & Jill Calbee', 'pack_size': 'Small', 'flavour': 'Flamin Chilli', 'type': 'Chips & Crisps'}\n",
      "\n",
      "\n",
      "\u001b[1m> Entering new SequentialChain chain...\u001b[0m\n",
      "\n",
      "\u001b[1m> Finished chain.\u001b[0m\n",
      "{'SKU': 'PIATTOS SNACK SP 75G', 'category': 'Chips & Crisps', 'brand_name': \"Jack 'n Jill\", 'pack_size': 'Small', 'flavour': \"Don't Know\", 'type': \"Don't Know\"}\n",
      "\n",
      "\n",
      "\u001b[1m> Entering new SequentialChain chain...\u001b[0m\n",
      "\n",
      "\u001b[1m> Finished chain.\u001b[0m\n",
      "{'SKU': 'ZOELIFE CASHEWNUTS ROASTED 100G', 'category': 'Nuts', 'brand_name': 'Zoelife', 'pack_size': 'Small', 'flavour': 'Roasted', 'type': 'Cashew Nuts'}\n",
      "\n",
      "\n",
      "\u001b[1m> Entering new SequentialChain chain...\u001b[0m\n",
      "\n",
      "\u001b[1m> Finished chain.\u001b[0m\n",
      "{'SKU': 'COMBYWIDE IKAN SATAY 42G', 'category': 'Not Applicable', 'brand_name': 'Combywide', 'pack_size': 'Small', 'flavour': 'Ikan Satay', 'type': 'Fish Satay Snack'}\n"
     ]
    }
   ],
   "source": [
    "for i in range(len(top20_sku)):\n",
    "    print(overall_chain({\"SKU\" : top20_sku[i]}))"
   ]
  },
  {
   "cell_type": "code",
   "execution_count": null,
   "metadata": {},
   "outputs": [],
   "source": []
  }
 ],
 "metadata": {
  "kernelspec": {
   "display_name": "base",
   "language": "python",
   "name": "python3"
  },
  "language_info": {
   "codemirror_mode": {
    "name": "ipython",
    "version": 3
   },
   "file_extension": ".py",
   "mimetype": "text/x-python",
   "name": "python",
   "nbconvert_exporter": "python",
   "pygments_lexer": "ipython3",
   "version": "3.9.13"
  },
  "orig_nbformat": 4
 },
 "nbformat": 4,
 "nbformat_minor": 2
}
