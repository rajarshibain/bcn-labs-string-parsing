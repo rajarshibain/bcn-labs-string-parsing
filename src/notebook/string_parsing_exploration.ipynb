{
 "cells": [
  {
   "cell_type": "markdown",
   "metadata": {},
   "source": [
    "#### Import Libraries"
   ]
  },
  {
   "cell_type": "code",
   "execution_count": 31,
   "metadata": {},
   "outputs": [],
   "source": [
    "import openai\n",
    "import pandas as pd\n",
    "import numpy as np\n",
    "import os\n",
    "from openai.embeddings_utils import cosine_similarity\n",
    "from openai.embeddings_utils import get_embedding\n",
    "from openai.embeddings_utils import cosine_similarity\n",
    "import swifter\n",
    "from configparser import ConfigParser"
   ]
  },
  {
   "cell_type": "code",
   "execution_count": 2,
   "metadata": {},
   "outputs": [],
   "source": [
    "def join_path(a,b):\n",
    "    '''\n",
    "    Input\n",
    "    a - folder location\n",
    "    b - file name\n",
    "\n",
    "    Return\n",
    "    joining the path\n",
    "    '''\n",
    "    return os.path.join(a,b)\n",
    "\n",
    "def read_data(path):\n",
    "\n",
    "    try:\n",
    "        return pd.read_excel(path)\n",
    "    except:\n",
    "        return pd.read_csv(path)\n",
    "\n",
    "\n",
    "def messages_list(examples, input_levels,  choosen_level, input_row,sku_description_column_name):\n",
    "    messages = []\n",
    "    system_content = {\"role\" : \"system\", \"content\" : input_levels['system_content_part1'] + \" \" + input_levels['super_category'] + '.' +  f\"In your response, mention ONLY the {input_levels[choosen_level]}.\"}\n",
    "    messages.append(system_content)\n",
    "    for i in range(examples.shape[0]):\n",
    "        d = {}\n",
    "        e = {}\n",
    "        d = {\"role\" : \"user\", \"content\" : f\"For this {input_levels['super_category']}, What is the {input_levels[choosen_level]}  of  the following SKU- {examples.user_response.values[i]}?\"}\n",
    "        messages.append(d)\n",
    "        e = {\"role\" : \"assistant\", \"content\" : f\"{examples[choosen_level].values[i]}\"}\n",
    "        messages.append(e)\n",
    "    messages.append({\"role\" : \"user\", \"content\" : f\"For this {input_levels['super_category']}, What is the {input_levels[choosen_level]} of {input_row[sku_description_column_name]}?\"})\n",
    "    return messages\n",
    "\n",
    "\n",
    "def messages_list_conditional(examples, input_levels,  choosen_level, input_row, sku_description_column_name):\n",
    "    messages = []\n",
    "    system_content = {\"role\" : \"system\", \"content\" : input_levels['system_content_part1'] + \" \" + input_levels['super_category'] + '.' +  f\"In your response, mention ONLY the {input_levels[choosen_level]}.\"}\n",
    "    messages.append(system_content)\n",
    "    for i in range(examples.shape[0]):\n",
    "        d = {}\n",
    "        e = {}\n",
    "        d = {\"role\" : \"user\", \"content\" : f\"Given the {input_levels['level1']} is {input_row['level1']}. What is the {input_levels[choosen_level]}  of  the following SKU- {examples.user_response.values[i]}?\"}\n",
    "        messages.append(d)\n",
    "        e = {\"role\" : \"assistant\", \"content\" : f\"{examples[choosen_level].values[i]}\"}\n",
    "        messages.append(e)\n",
    "    messages.append({\"role\" : \"user\", \"content\" : f\"What is the {input_levels[choosen_level]} of {input_row[sku_description_column_name]}?\"})\n",
    "    return messages\n",
    "\n",
    "def retail_gpt(examples,input_levels, choosen_level, input_row, sku_description_column_name,  messages_list, model = 'gpt-3.5-turbo', max_tokens = 50, temperature = 0.6, ):\n",
    "    response = openai.ChatCompletion.create(\n",
    "    model = model,        \n",
    "    messages = messages_list(examples=examples, input_levels=input_levels, choosen_level= choosen_level, input_row = input_row, sku_description_column_name = sku_description_column_name ),\n",
    "    max_tokens = max_tokens,\n",
    "    temperature = temperature\n",
    "    )\n",
    "    answer = response[\"choices\"][0]['message']['content']\n",
    "    return answer\n",
    "\n",
    "def final_prediction(df, examples, input_levels, sku_description_column_name, messages_list,messages_list_conditional):\n",
    "    df['level1_openai'] = df.apply(lambda x : retail_gpt(examples= examples, input_levels= input_levels, choosen_level= 'level1',input_row= x,sku_description_column_name= sku_description_column_name,messages_list= messages_list), axis=1)\n",
    "\n",
    "    # The for loop will work on levels level2 and onwards, conditional only on level 1\n",
    "    for i in list(input_levels.keys())[-input_levels['number_of_levels'] + 1:]:\n",
    "        df[i + '_openai'] = df.apply(lambda x : retail_gpt(examples= examples, input_levels= input_levels, choosen_level= i,input_row= x,sku_description_column_name= sku_description_column_name, messages_list= messages_list_conditional), axis=1)\n",
    "\n",
    "    return df"
   ]
  },
  {
   "cell_type": "code",
   "execution_count": 3,
   "metadata": {},
   "outputs": [],
   "source": [
    "def final_prediction(df, examples, input_levels, sku_description_column_name, messages_list,messages_list_conditional):\n",
    "    df['level1_openai'] = df.apply(lambda x : retail_gpt(examples= examples, input_levels= input_levels, choosen_level= 'level1',input_row= x,sku_description_column_name= sku_description_column_name,messages_list= messages_list), axis=1)\n",
    "\n",
    "    for i in list(input_levels.keys())[-input_levels['number_of_levels'] + 1:]:\n",
    "        df[i + '_openai'] = df.apply(lambda x : retail_gpt(examples= examples, input_levels= input_levels, choosen_level= i,input_row= x,sku_description_column_name= sku_description_column_name, messages_list= messages_list_conditional), axis=1)\n",
    "\n",
    "    return df"
   ]
  },
  {
   "cell_type": "markdown",
   "metadata": {},
   "source": [
    "#### File Path"
   ]
  },
  {
   "cell_type": "code",
   "execution_count": 3,
   "metadata": {},
   "outputs": [],
   "source": [
    "import os\n",
    "DIR_PATH = os.path.dirname(os.path.dirname(os.getcwd()))\n",
    "SRC_DIR = os.path.join(DIR_PATH, \"src\")\n",
    "DATA_DIR = os.path.join(DIR_PATH, \"data\")\n",
    "RAW_DIR = os.path.join(DATA_DIR, 'raw')\n",
    "CONFIG_DIR = os.path.join(DIR_PATH, 'config')\n",
    "import yaml\n",
    "import os\n",
    "\n",
    "with open(os.path.join(CONFIG_DIR,\"master_config.yml\"),\"r\") as f:\n",
    "    openai_config = yaml.safe_load(f)\n",
    "\n",
    "with open(os.path.join(CONFIG_DIR, 'input_levels.yml'), 'r') as f:\n",
    "    input_levels = yaml.safe_load(f)\n",
    "\n",
    "examples = read_data(join_path(RAW_DIR,'examples.xlsx'))\n",
    "snacks = pd.read_excel(r\"C:\\Users\\66660\\Documents\\data_string_parsing.xlsx\")"
   ]
  },
  {
   "cell_type": "markdown",
   "metadata": {},
   "source": [
    "##### User Input File Path"
   ]
  },
  {
   "cell_type": "code",
   "execution_count": 26,
   "metadata": {},
   "outputs": [
    {
     "name": "stderr",
     "output_type": "stream",
     "text": [
      "c:\\Users\\66660\\Anaconda3\\lib\\site-packages\\openpyxl\\worksheet\\header_footer.py:48: UserWarning: Cannot parse header or footer so it will be ignored\n",
      "  warn(\"\"\"Cannot parse header or footer so it will be ignored\"\"\")\n",
      "c:\\Users\\66660\\Anaconda3\\lib\\site-packages\\openpyxl\\worksheet\\header_footer.py:48: UserWarning: Cannot parse header or footer so it will be ignored\n",
      "  warn(\"\"\"Cannot parse header or footer so it will be ignored\"\"\")\n"
     ]
    }
   ],
   "source": [
    "import yaml\n",
    "import os\n",
    "\n",
    "with open(os.path.join(CONFIG_DIR,\"master_config.yml\"),\"r\") as f:\n",
    "    openai_config = yaml.safe_load(f)\n",
    "\n",
    "with open(os.path.join(CONFIG_DIR, 'input_levels.yml'), 'r') as f:\n",
    "    input_levels = yaml.safe_load(f)\n",
    "\n",
    "examples = read_data(join_path(RAW_DIR,'examples.xlsx'))\n",
    "snacks = pd.read_excel(r\"C:\\Users\\66660\\Documents\\data_string_parsing.xlsx\")"
   ]
  },
  {
   "cell_type": "code",
   "execution_count": 8,
   "metadata": {},
   "outputs": [
    {
     "data": {
      "text/plain": [
       "{'system_content_part1': 'You are a Retail expert with expertise in undertanding SKUs for',\n",
       " 'super_category': 'snacks',\n",
       " 'number_of_levels': 5,\n",
       " 'level1': 'Category of snack',\n",
       " 'level2': 'Brand Name or Company name',\n",
       " 'level3': 'Pack size',\n",
       " 'level4': 'Flavour',\n",
       " 'level5': 'Type'}"
      ]
     },
     "execution_count": 8,
     "metadata": {},
     "output_type": "execute_result"
    }
   ],
   "source": [
    "input_levels"
   ]
  },
  {
   "cell_type": "code",
   "execution_count": 27,
   "metadata": {},
   "outputs": [],
   "source": [
    "openai.api_key = openai_config['api_key']"
   ]
  },
  {
   "cell_type": "markdown",
   "metadata": {},
   "source": [
    "#### Functions"
   ]
  },
  {
   "cell_type": "code",
   "execution_count": 11,
   "metadata": {},
   "outputs": [],
   "source": [
    "def join_path(a,b):\n",
    "    '''\n",
    "    Input\n",
    "    a - folder location\n",
    "    b - file name\n",
    "\n",
    "    Return\n",
    "    joining the path\n",
    "    '''\n",
    "    return os.path.join(a,b)\n",
    "\n",
    "def word_count_from_sentence(text):\n",
    "    text = text.strip()\n",
    "    return len(text.split(\" \"))\n",
    "\n",
    "def read_data(path):\n",
    "\n",
    "    try:\n",
    "        return pd.read_excel(path)\n",
    "    except:\n",
    "        return pd.read_csv(path)\n",
    "\n",
    "\n",
    "def messages_list(examples, input_levels,  choosen_level, input_row,sku_description_column_name):\n",
    "    messages = []\n",
    "    system_content = {\"role\" : \"system\", \"content\" : input_levels['system_content_part1'] + \" \" + input_levels['super_category'] + '.' +  f\"In your response, mention ONLY the {input_levels[choosen_level]}.\"}\n",
    "    messages.append(system_content)\n",
    "    for i in range(examples.shape[0]):\n",
    "        d = {}\n",
    "        e = {}\n",
    "        d = {\"role\" : \"user\", \"content\" : f\"For this {input_levels['super_category']}, What is the {input_levels[choosen_level]}  of  the following SKU- {examples.user_response.values[i]}?\"}\n",
    "        messages.append(d)\n",
    "        e = {\"role\" : \"assistant\", \"content\" : f\"{examples[choosen_level].values[i]}\"}\n",
    "        messages.append(e)\n",
    "    messages.append({\"role\" : \"user\", \"content\" : f\"For this {input_levels['super_category']}, What is the {input_levels[choosen_level]} of {input_row[sku_description_column_name]}?\"})\n",
    "    return messages\n",
    "\n",
    "\n",
    "def messages_list_conditional(examples, input_levels,  choosen_level, input_row, sku_description_column_name):\n",
    "    messages = []\n",
    "    system_content = {\"role\" : \"system\", \"content\" : input_levels['system_content_part1'] + \" \" + input_levels['super_category'] + '.' +  f\"In your response, mention ONLY the {input_levels[choosen_level]}.\"}\n",
    "    messages.append(system_content)\n",
    "    for i in range(examples.shape[0]):\n",
    "        d = {}\n",
    "        e = {}\n",
    "        d = {\"role\" : \"user\", \"content\" : f\"Given the {input_levels['level1']} is {input_row['level1']}. What is the {input_levels[choosen_level]}  of  the following SKU- {examples.user_response.values[i]}?\"}\n",
    "        messages.append(d)\n",
    "        e = {\"role\" : \"assistant\", \"content\" : f\"{examples[choosen_level].values[i]}\"}\n",
    "        messages.append(e)\n",
    "    messages.append({\"role\" : \"user\", \"content\" : f\"What is the {input_levels[choosen_level]} of {input_row[sku_description_column_name]}?\"})\n",
    "    return messages\n",
    "\n",
    "def retail_gpt(examples,input_levels, choosen_level, input_row, sku_description_column_name,  messages_list, model = 'gpt-3.5-turbo', max_tokens = 50, temperature = 0.6, ):\n",
    "    response = openai.ChatCompletion.create(\n",
    "    model = model,        \n",
    "    messages = messages_list(examples=examples, input_levels=input_levels, choosen_level= choosen_level, input_row = input_row, sku_description_column_name = sku_description_column_name ),\n",
    "    max_tokens = max_tokens,\n",
    "    temperature = temperature\n",
    "    )\n",
    "    answer = response[\"choices\"][0]['message']['content']\n",
    "    return answer\n",
    "\n",
    "def final_prediction(df, examples, input_levels, sku_description_column_name, messages_list,messages_list_conditional):\n",
    "    df['level1_openai'] = df.swifter.apply(lambda x : retail_gpt(examples= examples, input_levels= input_levels, choosen_level= 'level1',input_row= x,sku_description_column_name= sku_description_column_name,messages_list= messages_list), axis=1)\n",
    "\n",
    "    # The for loop will work on levels level2 and onwards, conditional only on level 1\n",
    "    for i in list(input_levels.keys())[-input_levels['number_of_levels'] + 1:]:\n",
    "        df[i + '_openai'] = df.swifter.apply(lambda x : retail_gpt(examples= examples, input_levels= input_levels, choosen_level= i,input_row= x,sku_description_column_name= sku_description_column_name, messages_list= messages_list_conditional), axis=1)\n",
    "\n",
    "    return df"
   ]
  },
  {
   "cell_type": "code",
   "execution_count": 13,
   "metadata": {},
   "outputs": [
    {
     "data": {
      "text/plain": [
       "[{'role': 'system',\n",
       "  'content': 'You are a Retail expert with expertise in undertanding SKUs for snacks.In your response, mention ONLY the Brand Name or Company name.'},\n",
       " {'role': 'user',\n",
       "  'content': 'Given the Category of snack is Nuts. What is the Brand Name or Company name  of  the following SKU- TONG GARDEN PEANUT & CRACKER 50G?'},\n",
       " {'role': 'assistant', 'content': 'Tong Garden'},\n",
       " {'role': 'user',\n",
       "  'content': 'Given the Category of snack is Nuts. What is the Brand Name or Company name  of  the following SKU- SALTED SAN TUNG PEANUT 100G?'},\n",
       " {'role': 'assistant', 'content': 'San Tung'},\n",
       " {'role': 'user',\n",
       "  'content': 'What is the Brand Name or Company name of TONG GARDEN PEANUT & CRACKER 50G?'}]"
      ]
     },
     "execution_count": 13,
     "metadata": {},
     "output_type": "execute_result"
    }
   ],
   "source": [
    "messages_list_conditional(examples= examples.iloc[0:2], input_levels= input_levels, choosen_level= 'level2', input_row = examples.iloc[0], sku_description_column_name= 'user_response' )"
   ]
  },
  {
   "cell_type": "code",
   "execution_count": 14,
   "metadata": {},
   "outputs": [
    {
     "data": {
      "text/plain": [
       "'peanut and cracker'"
      ]
     },
     "execution_count": 14,
     "metadata": {},
     "output_type": "execute_result"
    }
   ],
   "source": [
    "retail_gpt(examples= examples.iloc[0:2], messages_list= messages_list_conditional, input_levels= input_levels, choosen_level= 'level5', input_row = examples.iloc[0], sku_description_column_name= 'user_response' )"
   ]
  },
  {
   "cell_type": "code",
   "execution_count": 15,
   "metadata": {},
   "outputs": [
    {
     "data": {
      "text/html": [
       "<div>\n",
       "<style scoped>\n",
       "    .dataframe tbody tr th:only-of-type {\n",
       "        vertical-align: middle;\n",
       "    }\n",
       "\n",
       "    .dataframe tbody tr th {\n",
       "        vertical-align: top;\n",
       "    }\n",
       "\n",
       "    .dataframe thead th {\n",
       "        text-align: right;\n",
       "    }\n",
       "</style>\n",
       "<table border=\"1\" class=\"dataframe\">\n",
       "  <thead>\n",
       "    <tr style=\"text-align: right;\">\n",
       "      <th></th>\n",
       "      <th>Sub-department</th>\n",
       "      <th>Category</th>\n",
       "      <th>Type</th>\n",
       "      <th>Flavour</th>\n",
       "      <th>Brand</th>\n",
       "      <th>Description</th>\n",
       "      <th>Qty Sold</th>\n",
       "      <th>Net Sales</th>\n",
       "      <th>Net Profit</th>\n",
       "      <th>Profit Margin(%)</th>\n",
       "      <th>Promo Contri(%)</th>\n",
       "      <th>Pack size</th>\n",
       "      <th>Price tier</th>\n",
       "    </tr>\n",
       "  </thead>\n",
       "  <tbody>\n",
       "    <tr>\n",
       "      <th>0</th>\n",
       "      <td>250 - SNACKS</td>\n",
       "      <td>0473 - CORN SNACKS</td>\n",
       "      <td>NaN</td>\n",
       "      <td>NaN</td>\n",
       "      <td>NaN</td>\n",
       "      <td>0821614601 - KOREAN COLOR CURRY POPCORN 80G</td>\n",
       "      <td>305</td>\n",
       "      <td>2020.51</td>\n",
       "      <td>494.84</td>\n",
       "      <td>0.244908</td>\n",
       "      <td>0.123043</td>\n",
       "      <td>Small</td>\n",
       "      <td>Medium</td>\n",
       "    </tr>\n",
       "    <tr>\n",
       "      <th>1</th>\n",
       "      <td>250 - SNACKS</td>\n",
       "      <td>0477 - NUTS</td>\n",
       "      <td>Seeds</td>\n",
       "      <td>NaN</td>\n",
       "      <td>Tong Garden</td>\n",
       "      <td>0821620101 - TONG GARDEN SUNFLOWER SEEDS NO SH...</td>\n",
       "      <td>1311</td>\n",
       "      <td>5750.57</td>\n",
       "      <td>1305.02</td>\n",
       "      <td>0.226938</td>\n",
       "      <td>0.071040</td>\n",
       "      <td>Medium</td>\n",
       "      <td>Low</td>\n",
       "    </tr>\n",
       "  </tbody>\n",
       "</table>\n",
       "</div>"
      ],
      "text/plain": [
       "  Sub-department            Category   Type Flavour        Brand  \\\n",
       "0   250 - SNACKS  0473 - CORN SNACKS    NaN     NaN          NaN   \n",
       "1   250 - SNACKS         0477 - NUTS  Seeds     NaN  Tong Garden   \n",
       "\n",
       "                                         Description  Qty Sold  Net Sales  \\\n",
       "0        0821614601 - KOREAN COLOR CURRY POPCORN 80G       305    2020.51   \n",
       "1  0821620101 - TONG GARDEN SUNFLOWER SEEDS NO SH...      1311    5750.57   \n",
       "\n",
       "   Net Profit  Profit Margin(%)  Promo Contri(%) Pack size Price tier  \n",
       "0      494.84          0.244908         0.123043     Small     Medium  \n",
       "1     1305.02          0.226938         0.071040    Medium        Low  "
      ]
     },
     "execution_count": 15,
     "metadata": {},
     "output_type": "execute_result"
    }
   ],
   "source": [
    "data = pd.read_excel(r\"C:\\Users\\66660\\Downloads\\Everrise_Snacks_Sample_v2.xlsx\")\n",
    "data.head(2)"
   ]
  },
  {
   "cell_type": "code",
   "execution_count": 16,
   "metadata": {},
   "outputs": [
    {
     "name": "stderr",
     "output_type": "stream",
     "text": [
      "C:\\Users\\66660\\AppData\\Local\\Temp\\ipykernel_22748\\557422674.py:3: SettingWithCopyWarning: \n",
      "A value is trying to be set on a copy of a slice from a DataFrame.\n",
      "Try using .loc[row_indexer,col_indexer] = value instead\n",
      "\n",
      "See the caveats in the documentation: https://pandas.pydata.org/pandas-docs/stable/user_guide/indexing.html#returning-a-view-versus-a-copy\n",
      "  sample['level1_openai'] = sample.apply(lambda x : retail_gpt(examples= examples, input_levels= input_levels, choosen_level= 'level1',input_row= x,sku_description_column_name= 'user_response',messages_list= messages_list), axis=1)\n"
     ]
    },
    {
     "data": {
      "text/html": [
       "<div>\n",
       "<style scoped>\n",
       "    .dataframe tbody tr th:only-of-type {\n",
       "        vertical-align: middle;\n",
       "    }\n",
       "\n",
       "    .dataframe tbody tr th {\n",
       "        vertical-align: top;\n",
       "    }\n",
       "\n",
       "    .dataframe thead th {\n",
       "        text-align: right;\n",
       "    }\n",
       "</style>\n",
       "<table border=\"1\" class=\"dataframe\">\n",
       "  <thead>\n",
       "    <tr style=\"text-align: right;\">\n",
       "      <th></th>\n",
       "      <th>user_response</th>\n",
       "      <th>level1</th>\n",
       "      <th>level2</th>\n",
       "      <th>level3</th>\n",
       "      <th>level4</th>\n",
       "      <th>level5</th>\n",
       "      <th>level1_openai</th>\n",
       "    </tr>\n",
       "  </thead>\n",
       "  <tbody>\n",
       "    <tr>\n",
       "      <th>0</th>\n",
       "      <td>TONG GARDEN PEANUT &amp; CRACKER 50G</td>\n",
       "      <td>Nuts</td>\n",
       "      <td>Tong Garden</td>\n",
       "      <td>small</td>\n",
       "      <td>cracker</td>\n",
       "      <td>peanut</td>\n",
       "      <td>NUTS</td>\n",
       "    </tr>\n",
       "    <tr>\n",
       "      <th>1</th>\n",
       "      <td>SALTED SAN TUNG PEANUT 100G</td>\n",
       "      <td>Nuts</td>\n",
       "      <td>San Tung</td>\n",
       "      <td>medium</td>\n",
       "      <td>Salted</td>\n",
       "      <td>peanut</td>\n",
       "      <td>NUTS</td>\n",
       "    </tr>\n",
       "  </tbody>\n",
       "</table>\n",
       "</div>"
      ],
      "text/plain": [
       "                      user_response level1       level2  level3   level4  \\\n",
       "0  TONG GARDEN PEANUT & CRACKER 50G   Nuts  Tong Garden   small  cracker   \n",
       "1       SALTED SAN TUNG PEANUT 100G   Nuts     San Tung  medium   Salted   \n",
       "\n",
       "   level5 level1_openai  \n",
       "0  peanut          NUTS  \n",
       "1  peanut          NUTS  "
      ]
     },
     "execution_count": 16,
     "metadata": {},
     "output_type": "execute_result"
    }
   ],
   "source": [
    "sample = examples.iloc[:20]\n",
    "\n",
    "sample['level1_openai'] = sample.apply(lambda x : retail_gpt(examples= examples, input_levels= input_levels, choosen_level= 'level1',input_row= x,sku_description_column_name= 'user_response',messages_list= messages_list), axis=1)\n",
    "\n",
    "sample.head(2)"
   ]
  },
  {
   "cell_type": "code",
   "execution_count": 17,
   "metadata": {},
   "outputs": [
    {
     "data": {
      "text/plain": [
       "['level2', 'level3', 'level4', 'level5']"
      ]
     },
     "execution_count": 17,
     "metadata": {},
     "output_type": "execute_result"
    }
   ],
   "source": [
    "list(input_levels.keys())[-input_levels['number_of_levels'] + 1:]"
   ]
  },
  {
   "cell_type": "code",
   "execution_count": 36,
   "metadata": {},
   "outputs": [
    {
     "data": {
      "text/plain": [
       "Index(['Sub-department', 'level1', 'level2', 'level3', 'level4', 'Description',\n",
       "       'Qty Sold', 'Net Sales', 'Net Profit', 'Profit Margin(%)',\n",
       "       'Promo Contri(%)', 'level5', 'Price tier'],\n",
       "      dtype='object')"
      ]
     },
     "execution_count": 36,
     "metadata": {},
     "output_type": "execute_result"
    }
   ],
   "source": [
    "snacks.columns"
   ]
  },
  {
   "cell_type": "code",
   "execution_count": 29,
   "metadata": {},
   "outputs": [
    {
     "data": {
      "text/plain": [
       "array(['0473 - CORN SNACKS', '0477 - NUTS', '0478 - POTATOES CHIPS',\n",
       "       '0482 - OTHERS', '0476 - LOCAL SNACK', '0480 - SEAFOOD SNACK',\n",
       "       '0479 - PRESERVED FRUITS', '0481 - SEAWEED',\n",
       "       '0471 - CHEESE TWISTY', '0472 - CORN CHIPS', '0475 - LENTIL CHIPS',\n",
       "       '0474 - FESTIVE', '0470 - CASSAVA CHIPS'], dtype=object)"
      ]
     },
     "execution_count": 29,
     "metadata": {},
     "output_type": "execute_result"
    }
   ],
   "source": [
    "snacks['level1'].unique()"
   ]
  },
  {
   "cell_type": "code",
   "execution_count": 46,
   "metadata": {},
   "outputs": [
    {
     "data": {
      "application/vnd.jupyter.widget-view+json": {
       "model_id": "fec2d3ec59c9401c985e72b10c4db40f",
       "version_major": 2,
       "version_minor": 0
      },
      "text/plain": [
       "Pandas Apply:   0%|          | 0/1500 [00:00<?, ?it/s]"
      ]
     },
     "metadata": {},
     "output_type": "display_data"
    },
    {
     "data": {
      "text/plain": [
       "(512, 14)"
      ]
     },
     "execution_count": 46,
     "metadata": {},
     "output_type": "execute_result"
    }
   ],
   "source": [
    "snacks['word_count'] = snacks.Description.swifter.apply(lambda x : word_count_from_sentence(x))\n",
    "snacks = snacks.sort_values(by = ['word_count'], ascending = False)\n",
    "snacks_sub = snacks[snacks.level1.isin(['0477 - NUTS', '0478 - POTATOES CHIPS'])]\n",
    "snacks_sub.shape"
   ]
  },
  {
   "cell_type": "code",
   "execution_count": 47,
   "metadata": {},
   "outputs": [
    {
     "data": {
      "text/html": [
       "<div>\n",
       "<style scoped>\n",
       "    .dataframe tbody tr th:only-of-type {\n",
       "        vertical-align: middle;\n",
       "    }\n",
       "\n",
       "    .dataframe tbody tr th {\n",
       "        vertical-align: top;\n",
       "    }\n",
       "\n",
       "    .dataframe thead th {\n",
       "        text-align: right;\n",
       "    }\n",
       "</style>\n",
       "<table border=\"1\" class=\"dataframe\">\n",
       "  <thead>\n",
       "    <tr style=\"text-align: right;\">\n",
       "      <th></th>\n",
       "      <th>Sub-department</th>\n",
       "      <th>level1</th>\n",
       "      <th>level2</th>\n",
       "      <th>level3</th>\n",
       "      <th>level4</th>\n",
       "      <th>Description</th>\n",
       "      <th>Qty Sold</th>\n",
       "      <th>Net Sales</th>\n",
       "      <th>Net Profit</th>\n",
       "      <th>Profit Margin(%)</th>\n",
       "      <th>Promo Contri(%)</th>\n",
       "      <th>level5</th>\n",
       "      <th>Price tier</th>\n",
       "      <th>word_count</th>\n",
       "    </tr>\n",
       "  </thead>\n",
       "  <tbody>\n",
       "    <tr>\n",
       "      <th>477</th>\n",
       "      <td>250 - SNACKS</td>\n",
       "      <td>0478 - POTATOES CHIPS</td>\n",
       "      <td>NaN</td>\n",
       "      <td>Salted</td>\n",
       "      <td>Hwa Yuan</td>\n",
       "      <td>2501727201 - HWA YUAN POTATO CHIPS – FLEUR DE ...</td>\n",
       "      <td>74</td>\n",
       "      <td>219.38</td>\n",
       "      <td>-83.42</td>\n",
       "      <td>-0.380253</td>\n",
       "      <td>0.569696</td>\n",
       "      <td>NaN</td>\n",
       "      <td>NaN</td>\n",
       "      <td>16</td>\n",
       "    </tr>\n",
       "    <tr>\n",
       "      <th>487</th>\n",
       "      <td>250 - SNACKS</td>\n",
       "      <td>0478 - POTATOES CHIPS</td>\n",
       "      <td>NaN</td>\n",
       "      <td>Salted</td>\n",
       "      <td>Hwa Yuan</td>\n",
       "      <td>2501727001 - HWA YUAN POTATO CHIPS – PINK SALT...</td>\n",
       "      <td>50</td>\n",
       "      <td>200.61</td>\n",
       "      <td>-4.19</td>\n",
       "      <td>-0.020886</td>\n",
       "      <td>0.382384</td>\n",
       "      <td>Small</td>\n",
       "      <td>Medium</td>\n",
       "      <td>13</td>\n",
       "    </tr>\n",
       "    <tr>\n",
       "      <th>1126</th>\n",
       "      <td>250 - SNACKS</td>\n",
       "      <td>0478 - POTATOES CHIPS</td>\n",
       "      <td>NaN</td>\n",
       "      <td>Spicy</td>\n",
       "      <td>Hwa Yuan</td>\n",
       "      <td>2501728101 - HWA YUAN POTATO CHIPS – BLACK PEP...</td>\n",
       "      <td>12</td>\n",
       "      <td>47.88</td>\n",
       "      <td>-28.92</td>\n",
       "      <td>-0.604010</td>\n",
       "      <td>1.000000</td>\n",
       "      <td>NaN</td>\n",
       "      <td>NaN</td>\n",
       "      <td>12</td>\n",
       "    </tr>\n",
       "    <tr>\n",
       "      <th>679</th>\n",
       "      <td>250 - SNACKS</td>\n",
       "      <td>0478 - POTATOES CHIPS</td>\n",
       "      <td>NaN</td>\n",
       "      <td>Salsa</td>\n",
       "      <td>Mr Potato</td>\n",
       "      <td>2501786501 - MISTER POTATO SYOK WAVE - HOT SAL...</td>\n",
       "      <td>117</td>\n",
       "      <td>643.50</td>\n",
       "      <td>149.70</td>\n",
       "      <td>0.232634</td>\n",
       "      <td>0.000000</td>\n",
       "      <td>Medium</td>\n",
       "      <td>Low</td>\n",
       "      <td>11</td>\n",
       "    </tr>\n",
       "    <tr>\n",
       "      <th>29</th>\n",
       "      <td>250 - SNACKS</td>\n",
       "      <td>0478 - POTATOES CHIPS</td>\n",
       "      <td>NaN</td>\n",
       "      <td>Salted</td>\n",
       "      <td>Real Potato</td>\n",
       "      <td>2501769401 - REAL POTATO HANCOOKED SALT &amp;  MIL...</td>\n",
       "      <td>12</td>\n",
       "      <td>174.00</td>\n",
       "      <td>31.20</td>\n",
       "      <td>0.179310</td>\n",
       "      <td>0.000000</td>\n",
       "      <td>Medium</td>\n",
       "      <td>Medium</td>\n",
       "      <td>11</td>\n",
       "    </tr>\n",
       "  </tbody>\n",
       "</table>\n",
       "</div>"
      ],
      "text/plain": [
       "     Sub-department                 level1 level2  level3       level4  \\\n",
       "477    250 - SNACKS  0478 - POTATOES CHIPS    NaN  Salted     Hwa Yuan   \n",
       "487    250 - SNACKS  0478 - POTATOES CHIPS    NaN  Salted     Hwa Yuan   \n",
       "1126   250 - SNACKS  0478 - POTATOES CHIPS    NaN   Spicy     Hwa Yuan   \n",
       "679    250 - SNACKS  0478 - POTATOES CHIPS    NaN   Salsa    Mr Potato   \n",
       "29     250 - SNACKS  0478 - POTATOES CHIPS    NaN  Salted  Real Potato   \n",
       "\n",
       "                                            Description  Qty Sold  Net Sales  \\\n",
       "477   2501727201 - HWA YUAN POTATO CHIPS – FLEUR DE ...        74     219.38   \n",
       "487   2501727001 - HWA YUAN POTATO CHIPS – PINK SALT...        50     200.61   \n",
       "1126  2501728101 - HWA YUAN POTATO CHIPS – BLACK PEP...        12      47.88   \n",
       "679   2501786501 - MISTER POTATO SYOK WAVE - HOT SAL...       117     643.50   \n",
       "29    2501769401 - REAL POTATO HANCOOKED SALT &  MIL...        12     174.00   \n",
       "\n",
       "      Net Profit  Profit Margin(%)  Promo Contri(%)  level5 Price tier  \\\n",
       "477       -83.42         -0.380253         0.569696     NaN        NaN   \n",
       "487        -4.19         -0.020886         0.382384   Small     Medium   \n",
       "1126      -28.92         -0.604010         1.000000     NaN        NaN   \n",
       "679       149.70          0.232634         0.000000  Medium        Low   \n",
       "29         31.20          0.179310         0.000000  Medium     Medium   \n",
       "\n",
       "      word_count  \n",
       "477           16  \n",
       "487           13  \n",
       "1126          12  \n",
       "679           11  \n",
       "29            11  "
      ]
     },
     "execution_count": 47,
     "metadata": {},
     "output_type": "execute_result"
    }
   ],
   "source": [
    "snacks_sub.head(5)"
   ]
  },
  {
   "cell_type": "code",
   "execution_count": 45,
   "metadata": {},
   "outputs": [
    {
     "data": {
      "text/html": [
       "<div>\n",
       "<style scoped>\n",
       "    .dataframe tbody tr th:only-of-type {\n",
       "        vertical-align: middle;\n",
       "    }\n",
       "\n",
       "    .dataframe tbody tr th {\n",
       "        vertical-align: top;\n",
       "    }\n",
       "\n",
       "    .dataframe thead th {\n",
       "        text-align: right;\n",
       "    }\n",
       "</style>\n",
       "<table border=\"1\" class=\"dataframe\">\n",
       "  <thead>\n",
       "    <tr style=\"text-align: right;\">\n",
       "      <th></th>\n",
       "      <th>Sub-department</th>\n",
       "      <th>level1</th>\n",
       "      <th>level2</th>\n",
       "      <th>level3</th>\n",
       "      <th>level4</th>\n",
       "      <th>Description</th>\n",
       "      <th>Qty Sold</th>\n",
       "      <th>Net Sales</th>\n",
       "      <th>Net Profit</th>\n",
       "      <th>Profit Margin(%)</th>\n",
       "      <th>Promo Contri(%)</th>\n",
       "      <th>level5</th>\n",
       "      <th>Price tier</th>\n",
       "      <th>word_count</th>\n",
       "    </tr>\n",
       "  </thead>\n",
       "  <tbody>\n",
       "    <tr>\n",
       "      <th>477</th>\n",
       "      <td>250 - SNACKS</td>\n",
       "      <td>0478 - POTATOES CHIPS</td>\n",
       "      <td>NaN</td>\n",
       "      <td>Salted</td>\n",
       "      <td>Hwa Yuan</td>\n",
       "      <td>2501727201 - HWA YUAN POTATO CHIPS – FLEUR DE ...</td>\n",
       "      <td>74</td>\n",
       "      <td>219.38</td>\n",
       "      <td>-83.42</td>\n",
       "      <td>-0.380253</td>\n",
       "      <td>0.569696</td>\n",
       "      <td>NaN</td>\n",
       "      <td>NaN</td>\n",
       "      <td>16</td>\n",
       "    </tr>\n",
       "    <tr>\n",
       "      <th>956</th>\n",
       "      <td>250 - SNACKS</td>\n",
       "      <td>0482 - OTHERS</td>\n",
       "      <td>NaN</td>\n",
       "      <td>NaN</td>\n",
       "      <td>NaN</td>\n",
       "      <td>2391519901 - HERR'S HONEY BBQ CHIP NOW WTH 52 ...</td>\n",
       "      <td>1222</td>\n",
       "      <td>9610.30</td>\n",
       "      <td>1670.03</td>\n",
       "      <td>0.173775</td>\n",
       "      <td>0.635813</td>\n",
       "      <td>Small</td>\n",
       "      <td>Medium</td>\n",
       "      <td>13</td>\n",
       "    </tr>\n",
       "  </tbody>\n",
       "</table>\n",
       "</div>"
      ],
      "text/plain": [
       "    Sub-department                 level1 level2  level3    level4  \\\n",
       "477   250 - SNACKS  0478 - POTATOES CHIPS    NaN  Salted  Hwa Yuan   \n",
       "956   250 - SNACKS          0482 - OTHERS    NaN     NaN       NaN   \n",
       "\n",
       "                                           Description  Qty Sold  Net Sales  \\\n",
       "477  2501727201 - HWA YUAN POTATO CHIPS – FLEUR DE ...        74     219.38   \n",
       "956  2391519901 - HERR'S HONEY BBQ CHIP NOW WTH 52 ...      1222    9610.30   \n",
       "\n",
       "     Net Profit  Profit Margin(%)  Promo Contri(%) level5 Price tier  \\\n",
       "477      -83.42         -0.380253         0.569696    NaN        NaN   \n",
       "956     1670.03          0.173775         0.635813  Small     Medium   \n",
       "\n",
       "     word_count  \n",
       "477          16  \n",
       "956          13  "
      ]
     },
     "execution_count": 45,
     "metadata": {},
     "output_type": "execute_result"
    }
   ],
   "source": [
    "snacks.head(2)"
   ]
  },
  {
   "cell_type": "code",
   "execution_count": 27,
   "metadata": {},
   "outputs": [
    {
     "data": {
      "text/html": [
       "<div>\n",
       "<style scoped>\n",
       "    .dataframe tbody tr th:only-of-type {\n",
       "        vertical-align: middle;\n",
       "    }\n",
       "\n",
       "    .dataframe tbody tr th {\n",
       "        vertical-align: top;\n",
       "    }\n",
       "\n",
       "    .dataframe thead th {\n",
       "        text-align: right;\n",
       "    }\n",
       "</style>\n",
       "<table border=\"1\" class=\"dataframe\">\n",
       "  <thead>\n",
       "    <tr style=\"text-align: right;\">\n",
       "      <th></th>\n",
       "      <th>Sub-department</th>\n",
       "      <th>level1</th>\n",
       "      <th>level2</th>\n",
       "      <th>level3</th>\n",
       "      <th>level4</th>\n",
       "      <th>Description</th>\n",
       "      <th>Qty Sold</th>\n",
       "      <th>Net Sales</th>\n",
       "      <th>Net Profit</th>\n",
       "      <th>Profit Margin(%)</th>\n",
       "      <th>Promo Contri(%)</th>\n",
       "      <th>level5</th>\n",
       "      <th>Price tier</th>\n",
       "    </tr>\n",
       "  </thead>\n",
       "  <tbody>\n",
       "    <tr>\n",
       "      <th>0</th>\n",
       "      <td>250 - SNACKS</td>\n",
       "      <td>0473 - CORN SNACKS</td>\n",
       "      <td>NaN</td>\n",
       "      <td>NaN</td>\n",
       "      <td>NaN</td>\n",
       "      <td>0821614601 - KOREAN COLOR CURRY POPCORN 80G</td>\n",
       "      <td>305</td>\n",
       "      <td>2020.51</td>\n",
       "      <td>494.84</td>\n",
       "      <td>0.244908</td>\n",
       "      <td>0.123043</td>\n",
       "      <td>Small</td>\n",
       "      <td>Medium</td>\n",
       "    </tr>\n",
       "    <tr>\n",
       "      <th>1</th>\n",
       "      <td>250 - SNACKS</td>\n",
       "      <td>0477 - NUTS</td>\n",
       "      <td>Seeds</td>\n",
       "      <td>NaN</td>\n",
       "      <td>Tong Garden</td>\n",
       "      <td>0821620101 - TONG GARDEN SUNFLOWER SEEDS NO SH...</td>\n",
       "      <td>1311</td>\n",
       "      <td>5750.57</td>\n",
       "      <td>1305.02</td>\n",
       "      <td>0.226938</td>\n",
       "      <td>0.071040</td>\n",
       "      <td>Medium</td>\n",
       "      <td>Low</td>\n",
       "    </tr>\n",
       "  </tbody>\n",
       "</table>\n",
       "</div>"
      ],
      "text/plain": [
       "  Sub-department              level1 level2 level3       level4  \\\n",
       "0   250 - SNACKS  0473 - CORN SNACKS    NaN    NaN          NaN   \n",
       "1   250 - SNACKS         0477 - NUTS  Seeds    NaN  Tong Garden   \n",
       "\n",
       "                                         Description  Qty Sold  Net Sales  \\\n",
       "0        0821614601 - KOREAN COLOR CURRY POPCORN 80G       305    2020.51   \n",
       "1  0821620101 - TONG GARDEN SUNFLOWER SEEDS NO SH...      1311    5750.57   \n",
       "\n",
       "   Net Profit  Profit Margin(%)  Promo Contri(%)  level5 Price tier  \n",
       "0      494.84          0.244908         0.123043   Small     Medium  \n",
       "1     1305.02          0.226938         0.071040  Medium        Low  "
      ]
     },
     "execution_count": 27,
     "metadata": {},
     "output_type": "execute_result"
    }
   ],
   "source": [
    "snacks.head(2)"
   ]
  },
  {
   "cell_type": "code",
   "execution_count": 48,
   "metadata": {},
   "outputs": [
    {
     "data": {
      "text/plain": [
       "(22, 6)"
      ]
     },
     "execution_count": 48,
     "metadata": {},
     "output_type": "execute_result"
    }
   ],
   "source": [
    "examples.shape"
   ]
  },
  {
   "cell_type": "code",
   "execution_count": 53,
   "metadata": {},
   "outputs": [
    {
     "data": {
      "text/plain": [
       "array(['Nuts', 'LOCAL SNACK', 'OTHERS', 'SEAFOOD SNACK', 'CORN SNACKS',\n",
       "       'NUTS', 'PRESERVED FRUITS', 'POTATOES CHIPS', 'SEAWEED'],\n",
       "      dtype=object)"
      ]
     },
     "execution_count": 53,
     "metadata": {},
     "output_type": "execute_result"
    }
   ],
   "source": [
    "examples.level1.unique()"
   ]
  },
  {
   "cell_type": "code",
   "execution_count": 54,
   "metadata": {},
   "outputs": [],
   "source": [
    "examples = examples[examples.level1.isin(['Nuts','NUTS','POTATOES CHIPS'])]"
   ]
  },
  {
   "cell_type": "code",
   "execution_count": 55,
   "metadata": {},
   "outputs": [
    {
     "data": {
      "text/plain": [
       "(9, 6)"
      ]
     },
     "execution_count": 55,
     "metadata": {},
     "output_type": "execute_result"
    }
   ],
   "source": [
    "examples.shape"
   ]
  },
  {
   "cell_type": "code",
   "execution_count": 56,
   "metadata": {},
   "outputs": [
    {
     "data": {
      "application/vnd.jupyter.widget-view+json": {
       "model_id": "b3f3c8d9061d4047ad23a99930b23db6",
       "version_major": 2,
       "version_minor": 0
      },
      "text/plain": [
       "Pandas Apply:   0%|          | 0/512 [00:00<?, ?it/s]"
      ]
     },
     "metadata": {},
     "output_type": "display_data"
    },
    {
     "name": "stderr",
     "output_type": "stream",
     "text": [
      "C:\\Users\\66660\\AppData\\Local\\Temp\\ipykernel_22748\\2921351558.py:64: SettingWithCopyWarning: \n",
      "A value is trying to be set on a copy of a slice from a DataFrame.\n",
      "Try using .loc[row_indexer,col_indexer] = value instead\n",
      "\n",
      "See the caveats in the documentation: https://pandas.pydata.org/pandas-docs/stable/user_guide/indexing.html#returning-a-view-versus-a-copy\n",
      "  df['level1_openai'] = df.swifter.apply(lambda x : retail_gpt(examples= examples, input_levels= input_levels, choosen_level= 'level1',input_row= x,sku_description_column_name= sku_description_column_name,messages_list= messages_list), axis=1)\n"
     ]
    },
    {
     "data": {
      "application/vnd.jupyter.widget-view+json": {
       "model_id": "47b1c80a0e55493fa8da1d384b892f17",
       "version_major": 2,
       "version_minor": 0
      },
      "text/plain": [
       "Pandas Apply:   0%|          | 0/512 [00:00<?, ?it/s]"
      ]
     },
     "metadata": {},
     "output_type": "display_data"
    },
    {
     "name": "stderr",
     "output_type": "stream",
     "text": [
      "C:\\Users\\66660\\AppData\\Local\\Temp\\ipykernel_22748\\2921351558.py:68: SettingWithCopyWarning: \n",
      "A value is trying to be set on a copy of a slice from a DataFrame.\n",
      "Try using .loc[row_indexer,col_indexer] = value instead\n",
      "\n",
      "See the caveats in the documentation: https://pandas.pydata.org/pandas-docs/stable/user_guide/indexing.html#returning-a-view-versus-a-copy\n",
      "  df[i + '_openai'] = df.swifter.apply(lambda x : retail_gpt(examples= examples, input_levels= input_levels, choosen_level= i,input_row= x,sku_description_column_name= sku_description_column_name, messages_list= messages_list_conditional), axis=1)\n"
     ]
    },
    {
     "data": {
      "application/vnd.jupyter.widget-view+json": {
       "model_id": "0d6075d027ff4476aa5db5d6ee6b866d",
       "version_major": 2,
       "version_minor": 0
      },
      "text/plain": [
       "Pandas Apply:   0%|          | 0/512 [00:00<?, ?it/s]"
      ]
     },
     "metadata": {},
     "output_type": "display_data"
    },
    {
     "name": "stderr",
     "output_type": "stream",
     "text": [
      "C:\\Users\\66660\\AppData\\Local\\Temp\\ipykernel_22748\\2921351558.py:68: SettingWithCopyWarning: \n",
      "A value is trying to be set on a copy of a slice from a DataFrame.\n",
      "Try using .loc[row_indexer,col_indexer] = value instead\n",
      "\n",
      "See the caveats in the documentation: https://pandas.pydata.org/pandas-docs/stable/user_guide/indexing.html#returning-a-view-versus-a-copy\n",
      "  df[i + '_openai'] = df.swifter.apply(lambda x : retail_gpt(examples= examples, input_levels= input_levels, choosen_level= i,input_row= x,sku_description_column_name= sku_description_column_name, messages_list= messages_list_conditional), axis=1)\n"
     ]
    },
    {
     "data": {
      "application/vnd.jupyter.widget-view+json": {
       "model_id": "25f14b86fec04a479e3031c7e93e2098",
       "version_major": 2,
       "version_minor": 0
      },
      "text/plain": [
       "Pandas Apply:   0%|          | 0/512 [00:00<?, ?it/s]"
      ]
     },
     "metadata": {},
     "output_type": "display_data"
    },
    {
     "name": "stderr",
     "output_type": "stream",
     "text": [
      "C:\\Users\\66660\\AppData\\Local\\Temp\\ipykernel_22748\\2921351558.py:68: SettingWithCopyWarning: \n",
      "A value is trying to be set on a copy of a slice from a DataFrame.\n",
      "Try using .loc[row_indexer,col_indexer] = value instead\n",
      "\n",
      "See the caveats in the documentation: https://pandas.pydata.org/pandas-docs/stable/user_guide/indexing.html#returning-a-view-versus-a-copy\n",
      "  df[i + '_openai'] = df.swifter.apply(lambda x : retail_gpt(examples= examples, input_levels= input_levels, choosen_level= i,input_row= x,sku_description_column_name= sku_description_column_name, messages_list= messages_list_conditional), axis=1)\n"
     ]
    },
    {
     "data": {
      "application/vnd.jupyter.widget-view+json": {
       "model_id": "6918fa2d84304f49aa14f38796da19e9",
       "version_major": 2,
       "version_minor": 0
      },
      "text/plain": [
       "Pandas Apply:   0%|          | 0/512 [00:00<?, ?it/s]"
      ]
     },
     "metadata": {},
     "output_type": "display_data"
    },
    {
     "name": "stderr",
     "output_type": "stream",
     "text": [
      "C:\\Users\\66660\\AppData\\Local\\Temp\\ipykernel_22748\\2921351558.py:68: SettingWithCopyWarning: \n",
      "A value is trying to be set on a copy of a slice from a DataFrame.\n",
      "Try using .loc[row_indexer,col_indexer] = value instead\n",
      "\n",
      "See the caveats in the documentation: https://pandas.pydata.org/pandas-docs/stable/user_guide/indexing.html#returning-a-view-versus-a-copy\n",
      "  df[i + '_openai'] = df.swifter.apply(lambda x : retail_gpt(examples= examples, input_levels= input_levels, choosen_level= i,input_row= x,sku_description_column_name= sku_description_column_name, messages_list= messages_list_conditional), axis=1)\n"
     ]
    }
   ],
   "source": [
    "output_snacks_sub = final_prediction(df = snacks_sub, examples= examples, input_levels= input_levels, messages_list= messages_list, sku_description_column_name= 'Description', messages_list_conditional= messages_list_conditional)"
   ]
  },
  {
   "cell_type": "code",
   "execution_count": 57,
   "metadata": {},
   "outputs": [
    {
     "data": {
      "text/html": [
       "<div>\n",
       "<style scoped>\n",
       "    .dataframe tbody tr th:only-of-type {\n",
       "        vertical-align: middle;\n",
       "    }\n",
       "\n",
       "    .dataframe tbody tr th {\n",
       "        vertical-align: top;\n",
       "    }\n",
       "\n",
       "    .dataframe thead th {\n",
       "        text-align: right;\n",
       "    }\n",
       "</style>\n",
       "<table border=\"1\" class=\"dataframe\">\n",
       "  <thead>\n",
       "    <tr style=\"text-align: right;\">\n",
       "      <th></th>\n",
       "      <th>Sub-department</th>\n",
       "      <th>level1</th>\n",
       "      <th>level2</th>\n",
       "      <th>level3</th>\n",
       "      <th>level4</th>\n",
       "      <th>Description</th>\n",
       "      <th>Qty Sold</th>\n",
       "      <th>Net Sales</th>\n",
       "      <th>Net Profit</th>\n",
       "      <th>Profit Margin(%)</th>\n",
       "      <th>Promo Contri(%)</th>\n",
       "      <th>level5</th>\n",
       "      <th>Price tier</th>\n",
       "      <th>word_count</th>\n",
       "      <th>level1_openai</th>\n",
       "      <th>level2_openai</th>\n",
       "      <th>level3_openai</th>\n",
       "      <th>level4_openai</th>\n",
       "      <th>level5_openai</th>\n",
       "    </tr>\n",
       "  </thead>\n",
       "  <tbody>\n",
       "    <tr>\n",
       "      <th>477</th>\n",
       "      <td>250 - SNACKS</td>\n",
       "      <td>0478 - POTATOES CHIPS</td>\n",
       "      <td>NaN</td>\n",
       "      <td>Salted</td>\n",
       "      <td>Hwa Yuan</td>\n",
       "      <td>2501727201 - HWA YUAN POTATO CHIPS – FLEUR DE ...</td>\n",
       "      <td>74</td>\n",
       "      <td>219.38</td>\n",
       "      <td>-83.42</td>\n",
       "      <td>-0.380253</td>\n",
       "      <td>0.569696</td>\n",
       "      <td>NaN</td>\n",
       "      <td>NaN</td>\n",
       "      <td>16</td>\n",
       "      <td>POTATOES CHIPS</td>\n",
       "      <td>Hwa Yuan</td>\n",
       "      <td>small</td>\n",
       "      <td>Fleur de sel</td>\n",
       "      <td>Potato chips</td>\n",
       "    </tr>\n",
       "    <tr>\n",
       "      <th>487</th>\n",
       "      <td>250 - SNACKS</td>\n",
       "      <td>0478 - POTATOES CHIPS</td>\n",
       "      <td>NaN</td>\n",
       "      <td>Salted</td>\n",
       "      <td>Hwa Yuan</td>\n",
       "      <td>2501727001 - HWA YUAN POTATO CHIPS – PINK SALT...</td>\n",
       "      <td>50</td>\n",
       "      <td>200.61</td>\n",
       "      <td>-4.19</td>\n",
       "      <td>-0.020886</td>\n",
       "      <td>0.382384</td>\n",
       "      <td>Small</td>\n",
       "      <td>Medium</td>\n",
       "      <td>13</td>\n",
       "      <td>POTATO CHIPS</td>\n",
       "      <td>Hwa Yuan</td>\n",
       "      <td>small</td>\n",
       "      <td>Pink Salt</td>\n",
       "      <td>Potato chips</td>\n",
       "    </tr>\n",
       "  </tbody>\n",
       "</table>\n",
       "</div>"
      ],
      "text/plain": [
       "    Sub-department                 level1 level2  level3    level4  \\\n",
       "477   250 - SNACKS  0478 - POTATOES CHIPS    NaN  Salted  Hwa Yuan   \n",
       "487   250 - SNACKS  0478 - POTATOES CHIPS    NaN  Salted  Hwa Yuan   \n",
       "\n",
       "                                           Description  Qty Sold  Net Sales  \\\n",
       "477  2501727201 - HWA YUAN POTATO CHIPS – FLEUR DE ...        74     219.38   \n",
       "487  2501727001 - HWA YUAN POTATO CHIPS – PINK SALT...        50     200.61   \n",
       "\n",
       "     Net Profit  Profit Margin(%)  Promo Contri(%) level5 Price tier  \\\n",
       "477      -83.42         -0.380253         0.569696    NaN        NaN   \n",
       "487       -4.19         -0.020886         0.382384  Small     Medium   \n",
       "\n",
       "     word_count   level1_openai level2_openai level3_openai level4_openai  \\\n",
       "477          16  POTATOES CHIPS      Hwa Yuan         small  Fleur de sel   \n",
       "487          13    POTATO CHIPS      Hwa Yuan         small     Pink Salt   \n",
       "\n",
       "    level5_openai  \n",
       "477  Potato chips  \n",
       "487  Potato chips  "
      ]
     },
     "execution_count": 57,
     "metadata": {},
     "output_type": "execute_result"
    }
   ],
   "source": [
    "output_snacks_sub.head(2)"
   ]
  },
  {
   "cell_type": "code",
   "execution_count": 5,
   "metadata": {},
   "outputs": [
    {
     "ename": "NameError",
     "evalue": "name 'output_snacks_sub' is not defined",
     "output_type": "error",
     "traceback": [
      "\u001b[1;31m---------------------------------------------------------------------------\u001b[0m",
      "\u001b[1;31mNameError\u001b[0m                                 Traceback (most recent call last)",
      "Cell \u001b[1;32mIn[5], line 1\u001b[0m\n\u001b[1;32m----> 1\u001b[0m output_snacks_sub\u001b[39m.\u001b[39mto_csv(\u001b[39mr\u001b[39m\u001b[39m\"\u001b[39m\u001b[39mC:\u001b[39m\u001b[39m\\\u001b[39m\u001b[39mUsers\u001b[39m\u001b[39m\\\u001b[39m\u001b[39m66660\u001b[39m\u001b[39m\\\u001b[39m\u001b[39mDocuments\u001b[39m\u001b[39m\\\u001b[39m\u001b[39mProjects\u001b[39m\u001b[39m\\\u001b[39m\u001b[39mbcn-labs-string-parsing\u001b[39m\u001b[39m\\\u001b[39m\u001b[39mdata\u001b[39m\u001b[39m\\\u001b[39m\u001b[39moutputs\u001b[39m\u001b[39m\\\u001b[39m\u001b[39moutput_snacks_sub.csv\u001b[39m\u001b[39m\"\u001b[39m)\n",
      "\u001b[1;31mNameError\u001b[0m: name 'output_snacks_sub' is not defined"
     ]
    }
   ],
   "source": [
    "output_snacks_sub.to_csv(r\"C:\\Users\\66660\\Documents\\Projects\\bcn-labs-string-parsing\\data\\outputs\\output_snacks_sub.csv\")"
   ]
  },
  {
   "cell_type": "code",
   "execution_count": 59,
   "metadata": {},
   "outputs": [
    {
     "name": "stdout",
     "output_type": "stream",
     "text": [
      "Collecting langchainNote: you may need to restart the kernel to use updated packages.\n",
      "\n",
      "  Downloading langchain-0.0.251-py3-none-any.whl (1.4 MB)\n",
      "                                              0.0/1.4 MB ? eta -:--:--\n",
      "     --                                       0.1/1.4 MB 2.2 MB/s eta 0:00:01\n",
      "     ----                                     0.2/1.4 MB 1.9 MB/s eta 0:00:01\n",
      "     -----                                    0.2/1.4 MB 1.8 MB/s eta 0:00:01\n",
      "     ---------                                0.3/1.4 MB 2.0 MB/s eta 0:00:01\n",
      "     -----------                              0.4/1.4 MB 1.9 MB/s eta 0:00:01\n",
      "     --------------                           0.5/1.4 MB 1.8 MB/s eta 0:00:01\n",
      "     ---------------                          0.5/1.4 MB 1.7 MB/s eta 0:00:01\n",
      "     -----------------                        0.6/1.4 MB 1.8 MB/s eta 0:00:01\n",
      "     --------------------                     0.7/1.4 MB 1.8 MB/s eta 0:00:01\n",
      "     ---------------------                    0.8/1.4 MB 1.7 MB/s eta 0:00:01\n",
      "     -----------------------                  0.8/1.4 MB 1.7 MB/s eta 0:00:01\n",
      "     --------------------------               0.9/1.4 MB 1.7 MB/s eta 0:00:01\n",
      "     -----------------------------            1.0/1.4 MB 1.7 MB/s eta 0:00:01\n",
      "     --------------------------------         1.1/1.4 MB 1.7 MB/s eta 0:00:01\n",
      "     -----------------------------------      1.2/1.4 MB 1.8 MB/s eta 0:00:01\n",
      "     ---------------------------------------  1.4/1.4 MB 1.9 MB/s eta 0:00:01\n",
      "     ---------------------------------------- 1.4/1.4 MB 1.9 MB/s eta 0:00:00\n",
      "Requirement already satisfied: PyYAML>=5.4.1 in c:\\users\\66660\\anaconda3\\lib\\site-packages (from langchain) (6.0)\n",
      "Requirement already satisfied: SQLAlchemy<3,>=1.4 in c:\\users\\66660\\anaconda3\\lib\\site-packages (from langchain) (1.4.39)\n",
      "Requirement already satisfied: aiohttp<4.0.0,>=3.8.3 in c:\\users\\66660\\anaconda3\\lib\\site-packages (from langchain) (3.8.3)\n",
      "Requirement already satisfied: async-timeout<5.0.0,>=4.0.0 in c:\\users\\66660\\anaconda3\\lib\\site-packages (from langchain) (4.0.2)\n",
      "Collecting dataclasses-json<0.6.0,>=0.5.7 (from langchain)\n",
      "  Downloading dataclasses_json-0.5.14-py3-none-any.whl (26 kB)\n",
      "Collecting langsmith<0.1.0,>=0.0.11 (from langchain)\n",
      "  Downloading langsmith-0.0.18-py3-none-any.whl (31 kB)\n",
      "Requirement already satisfied: numexpr<3.0.0,>=2.8.4 in c:\\users\\66660\\anaconda3\\lib\\site-packages (from langchain) (2.8.4)\n",
      "Requirement already satisfied: numpy<2,>=1 in c:\\users\\66660\\anaconda3\\lib\\site-packages (from langchain) (1.24.3)\n",
      "Collecting openapi-schema-pydantic<2.0,>=1.2 (from langchain)\n",
      "  Downloading openapi_schema_pydantic-1.2.4-py3-none-any.whl (90 kB)\n",
      "                                              0.0/90.0 kB ? eta -:--:--\n",
      "     ------------------------------------     81.9/90.0 kB 4.8 MB/s eta 0:00:01\n",
      "     ---------------------------------------- 90.0/90.0 kB 2.6 MB/s eta 0:00:00\n",
      "Requirement already satisfied: pydantic<2,>=1 in c:\\users\\66660\\anaconda3\\lib\\site-packages (from langchain) (1.10.9)\n",
      "Requirement already satisfied: requests<3,>=2 in c:\\users\\66660\\anaconda3\\lib\\site-packages (from langchain) (2.29.0)\n",
      "Requirement already satisfied: tenacity<9.0.0,>=8.1.0 in c:\\users\\66660\\anaconda3\\lib\\site-packages (from langchain) (8.2.2)\n",
      "Requirement already satisfied: attrs>=17.3.0 in c:\\users\\66660\\anaconda3\\lib\\site-packages (from aiohttp<4.0.0,>=3.8.3->langchain) (22.1.0)\n",
      "Requirement already satisfied: charset-normalizer<3.0,>=2.0 in c:\\users\\66660\\anaconda3\\lib\\site-packages (from aiohttp<4.0.0,>=3.8.3->langchain) (2.0.4)\n",
      "Requirement already satisfied: multidict<7.0,>=4.5 in c:\\users\\66660\\anaconda3\\lib\\site-packages (from aiohttp<4.0.0,>=3.8.3->langchain) (6.0.2)\n",
      "Requirement already satisfied: yarl<2.0,>=1.0 in c:\\users\\66660\\anaconda3\\lib\\site-packages (from aiohttp<4.0.0,>=3.8.3->langchain) (1.8.1)\n",
      "Requirement already satisfied: frozenlist>=1.1.1 in c:\\users\\66660\\anaconda3\\lib\\site-packages (from aiohttp<4.0.0,>=3.8.3->langchain) (1.3.3)\n",
      "Requirement already satisfied: aiosignal>=1.1.2 in c:\\users\\66660\\anaconda3\\lib\\site-packages (from aiohttp<4.0.0,>=3.8.3->langchain) (1.2.0)\n",
      "Collecting marshmallow<4.0.0,>=3.18.0 (from dataclasses-json<0.6.0,>=0.5.7->langchain)\n",
      "  Downloading marshmallow-3.20.1-py3-none-any.whl (49 kB)\n",
      "                                              0.0/49.4 kB ? eta -:--:--\n",
      "     ---------------------------------        41.0/49.4 kB ? eta -:--:--\n",
      "     -------------------------------------- 49.4/49.4 kB 632.2 kB/s eta 0:00:00\n",
      "Collecting typing-inspect<1,>=0.4.0 (from dataclasses-json<0.6.0,>=0.5.7->langchain)\n",
      "  Downloading typing_inspect-0.9.0-py3-none-any.whl (8.8 kB)\n",
      "Requirement already satisfied: typing-extensions>=4.2.0 in c:\\users\\66660\\anaconda3\\lib\\site-packages (from pydantic<2,>=1->langchain) (4.6.3)\n",
      "Requirement already satisfied: idna<4,>=2.5 in c:\\users\\66660\\anaconda3\\lib\\site-packages (from requests<3,>=2->langchain) (3.4)\n",
      "Requirement already satisfied: urllib3<1.27,>=1.21.1 in c:\\users\\66660\\anaconda3\\lib\\site-packages (from requests<3,>=2->langchain) (1.26.16)\n",
      "Requirement already satisfied: certifi>=2017.4.17 in c:\\users\\66660\\anaconda3\\lib\\site-packages (from requests<3,>=2->langchain) (2023.7.22)\n",
      "Requirement already satisfied: greenlet!=0.4.17 in c:\\users\\66660\\anaconda3\\lib\\site-packages (from SQLAlchemy<3,>=1.4->langchain) (2.0.1)\n",
      "Requirement already satisfied: packaging>=17.0 in c:\\users\\66660\\anaconda3\\lib\\site-packages (from marshmallow<4.0.0,>=3.18.0->dataclasses-json<0.6.0,>=0.5.7->langchain) (23.0)\n",
      "Requirement already satisfied: mypy-extensions>=0.3.0 in c:\\users\\66660\\anaconda3\\lib\\site-packages (from typing-inspect<1,>=0.4.0->dataclasses-json<0.6.0,>=0.5.7->langchain) (0.4.3)\n",
      "Installing collected packages: typing-inspect, marshmallow, openapi-schema-pydantic, langsmith, dataclasses-json, langchain\n",
      "Successfully installed dataclasses-json-0.5.14 langchain-0.0.251 langsmith-0.0.18 marshmallow-3.20.1 openapi-schema-pydantic-1.2.4 typing-inspect-0.9.0\n"
     ]
    }
   ],
   "source": [
    "pip install langchain"
   ]
  },
  {
   "cell_type": "code",
   "execution_count": 60,
   "metadata": {},
   "outputs": [
    {
     "name": "stdout",
     "output_type": "stream",
     "text": [
      "^C\n",
      "Note: you may need to restart the kernel to use updated packages.\n"
     ]
    }
   ],
   "source": [
    "pip install langchain[all]"
   ]
  },
  {
   "cell_type": "code",
   "execution_count": null,
   "metadata": {},
   "outputs": [],
   "source": [
    "from langchain.llms import OpenAI"
   ]
  },
  {
   "cell_type": "code",
   "execution_count": 19,
   "metadata": {},
   "outputs": [
    {
     "data": {
      "text/plain": [
       "'Tell me a funny joke about chickens.'"
      ]
     },
     "execution_count": 19,
     "metadata": {},
     "output_type": "execute_result"
    }
   ],
   "source": [
    "from langchain import PromptTemplate\n",
    "\n",
    "prompt_template = PromptTemplate.from_template(\n",
    "    \"Tell me a {adjective} joke about {content}.\"\n",
    ")\n",
    "prompt_template.format(adjective=\"funny\", content=\"chickens\")"
   ]
  },
  {
   "cell_type": "code",
   "execution_count": 20,
   "metadata": {},
   "outputs": [],
   "source": [
    "from langchain.prompts import ChatPromptTemplate\n",
    "\n",
    "template = ChatPromptTemplate.from_messages([\n",
    "    (\"system\", \"You are a helpful AI bot. Your name is {name}.\"),\n",
    "    (\"human\", \"Hello, how are you doing?\"),\n",
    "    (\"ai\", \"I'm doing well, thanks!\"),\n",
    "    (\"human\", \"{user_input}\"),\n",
    "])\n",
    "\n",
    "messages = template.format_messages(\n",
    "    name=\"Bob\",\n",
    "    user_input=\"What is your name?\"\n",
    ")"
   ]
  },
  {
   "cell_type": "code",
   "execution_count": 21,
   "metadata": {},
   "outputs": [
    {
     "data": {
      "text/plain": [
       "[SystemMessage(content='You are a helpful AI bot. Your name is Bob.', additional_kwargs={}),\n",
       " HumanMessage(content='Hello, how are you doing?', additional_kwargs={}, example=False),\n",
       " AIMessage(content=\"I'm doing well, thanks!\", additional_kwargs={}, example=False),\n",
       " HumanMessage(content='What is your name?', additional_kwargs={}, example=False)]"
      ]
     },
     "execution_count": 21,
     "metadata": {},
     "output_type": "execute_result"
    }
   ],
   "source": [
    "messages"
   ]
  },
  {
   "cell_type": "code",
   "execution_count": 35,
   "metadata": {},
   "outputs": [],
   "source": [
    "OPENAI_API_KEY= openai_config['api_key']"
   ]
  },
  {
   "cell_type": "markdown",
   "metadata": {},
   "source": [
    "#### Modular Functions"
   ]
  },
  {
   "cell_type": "code",
   "execution_count": 39,
   "metadata": {},
   "outputs": [
    {
     "name": "stdout",
     "output_type": "stream",
     "text": [
      "\n",
      "\n",
      "Vivid Toe-Co.\n"
     ]
    }
   ],
   "source": [
    "from langchain.llms import OpenAI\n",
    "from langchain.prompts import PromptTemplate\n",
    "\n",
    "llm = OpenAI(temperature=0.9,openai_api_key = openai_config['api_key'])\n",
    "prompt1 = PromptTemplate(\n",
    "    input_variables=[\"product\"],\n",
    "    template=\"What is a good name for a company that makes {product}?\",\n",
    ")\n",
    "\n",
    "from langchain.chains import LLMChain\n",
    "chain = LLMChain(llm=llm, prompt=prompt1)\n",
    "\n",
    "# Run the chain only specifying the input variable.\n",
    "print(chain.run(\"colorful socks\"))"
   ]
  },
  {
   "cell_type": "code",
   "execution_count": 40,
   "metadata": {},
   "outputs": [
    {
     "name": "stdout",
     "output_type": "stream",
     "text": [
      "\n",
      "\n",
      "FunkyFeet Socks.\n"
     ]
    }
   ],
   "source": [
    "prompt2 = PromptTemplate(\n",
    "    input_variables=[\"company\", \"product\"],\n",
    "    template=\"What is a good name for {company} that makes {product}?\",\n",
    ")\n",
    "chain = LLMChain(llm=llm, prompt=prompt2)\n",
    "print(chain.run({\n",
    "    'company': \"ABC Startup\",\n",
    "    'product': \"colorful socks\"\n",
    "    }))"
   ]
  },
  {
   "cell_type": "code",
   "execution_count": 42,
   "metadata": {},
   "outputs": [
    {
     "name": "stdout",
     "output_type": "stream",
     "text": [
      "Colorful Threads\n"
     ]
    }
   ],
   "source": [
    "from langchain.chat_models import ChatOpenAI\n",
    "from langchain.prompts.chat import (\n",
    "    ChatPromptTemplate,\n",
    "    HumanMessagePromptTemplate,\n",
    ")\n",
    "human_message_prompt = HumanMessagePromptTemplate(\n",
    "        prompt=PromptTemplate(\n",
    "            template=\"What is a good name for a company that makes {product}?\",\n",
    "            input_variables=[\"product\"],\n",
    "        )\n",
    "    )\n",
    "chat_prompt_template = ChatPromptTemplate.from_messages([human_message_prompt])\n",
    "chat = ChatOpenAI(temperature=0.9, openai_api_key = openai_config['api_key'])\n",
    "chain = LLMChain(llm=chat, prompt=chat_prompt_template)\n",
    "print(chain.run(\"colorful socks\"))"
   ]
  },
  {
   "cell_type": "code",
   "execution_count": 43,
   "metadata": {},
   "outputs": [],
   "source": [
    "from langchain.prompts import ChatPromptTemplate\n",
    "\n",
    "template = ChatPromptTemplate.from_messages([\n",
    "    (\"system\", \"You are a helpful AI bot. Your name is {name}.\"),\n",
    "    (\"human\", \"Hello, how are you doing?\"),\n",
    "    (\"ai\", \"I'm doing well, thanks!\"),\n",
    "    (\"human\", \"{user_input}\"),\n",
    "])\n",
    "\n",
    "messages = template.format_messages(\n",
    "    name=\"Bob\",\n",
    "    user_input=\"What is your name?\"\n",
    ")"
   ]
  },
  {
   "cell_type": "code",
   "execution_count": 46,
   "metadata": {},
   "outputs": [
    {
     "ename": "ValidationError",
     "evalue": "1 validation error for LLMChain\nprompt\n  value is not a valid dict (type=type_error.dict)",
     "output_type": "error",
     "traceback": [
      "\u001b[1;31m---------------------------------------------------------------------------\u001b[0m",
      "\u001b[1;31mValidationError\u001b[0m                           Traceback (most recent call last)",
      "Cell \u001b[1;32mIn[46], line 1\u001b[0m\n\u001b[1;32m----> 1\u001b[0m chain \u001b[39m=\u001b[39m LLMChain(llm\u001b[39m=\u001b[39;49mchat, prompt \u001b[39m=\u001b[39;49m  messages)\n",
      "File \u001b[1;32mc:\\Users\\66660\\Anaconda3\\lib\\site-packages\\langchain\\load\\serializable.py:74\u001b[0m, in \u001b[0;36mSerializable.__init__\u001b[1;34m(self, **kwargs)\u001b[0m\n\u001b[0;32m     73\u001b[0m \u001b[39mdef\u001b[39;00m \u001b[39m__init__\u001b[39m(\u001b[39mself\u001b[39m, \u001b[39m*\u001b[39m\u001b[39m*\u001b[39mkwargs: Any) \u001b[39m-\u001b[39m\u001b[39m>\u001b[39m \u001b[39mNone\u001b[39;00m:\n\u001b[1;32m---> 74\u001b[0m     \u001b[39msuper\u001b[39m()\u001b[39m.\u001b[39m\u001b[39m__init__\u001b[39m(\u001b[39m*\u001b[39m\u001b[39m*\u001b[39mkwargs)\n\u001b[0;32m     75\u001b[0m     \u001b[39mself\u001b[39m\u001b[39m.\u001b[39m_lc_kwargs \u001b[39m=\u001b[39m kwargs\n",
      "File \u001b[1;32mc:\\Users\\66660\\Anaconda3\\lib\\site-packages\\pydantic\\main.py:341\u001b[0m, in \u001b[0;36mpydantic.main.BaseModel.__init__\u001b[1;34m()\u001b[0m\n",
      "\u001b[1;31mValidationError\u001b[0m: 1 validation error for LLMChain\nprompt\n  value is not a valid dict (type=type_error.dict)"
     ]
    }
   ],
   "source": [
    "chain = LLMChain(llm=chat, prompt =  messages)"
   ]
  },
  {
   "cell_type": "code",
   "execution_count": 14,
   "metadata": {},
   "outputs": [],
   "source": [
    "levels = {'level1' : 'category' , 'level2' : 'Brand Name of Company name' , 'level3' : 'Pack Size' , 'level4' : 'Flavour',\n",
    "'level5' : 'Type'}\n",
    "\n",
    "def system_prompt():\n",
    "    return input('Enter prompt')"
   ]
  },
  {
   "cell_type": "code",
   "execution_count": 18,
   "metadata": {},
   "outputs": [],
   "source": [
    "system_prompt = \"You are an expert in understanding Retail SKU. You are able to extract information like category, flavour, type and other relevant information from SKU\""
   ]
  },
  {
   "cell_type": "code",
   "execution_count": null,
   "metadata": {},
   "outputs": [],
   "source": [
    "messages = []\n",
    "system_content = {\"role\" : \"system\", \"content\" : input_levels['system_content_part1'] + \" \" + input_levels['super_category'] + '.' +  f\"In your response, mention ONLY the {input_levels[choosen_level]}.\"}\n",
    "messages.append(system_content)\n",
    "for i in range(examples.shape[0]):\n",
    "    d = {}\n",
    "    e = {}\n",
    "    d = {\"role\" : \"user\", \"content\" : f\"For this {input_levels['super_category']}, What is the {input_levels[choosen_level]}  of  the following SKU- {examples.user_response.values[i]}?\"}\n",
    "    messages.append(d)\n",
    "    e = {\"role\" : \"assistant\", \"content\" : f\"{examples[choosen_level].values[i]}\"}\n",
    "    messages.append(e)\n",
    "messages.append({\"role\" : \"user\", \"content\" : f\"For this {input_levels['super_category']}, What is the {input_levels[choosen_level]} of {input_row[sku_description_column_name]}?\"})\n",
    "return messages"
   ]
  },
  {
   "cell_type": "code",
   "execution_count": 47,
   "metadata": {},
   "outputs": [
    {
     "data": {
      "text/plain": [
       "AIMessage(content='Seafood', additional_kwargs={}, example=False)"
      ]
     },
     "execution_count": 47,
     "metadata": {},
     "output_type": "execute_result"
    }
   ],
   "source": [
    "def template_level1(system_message = 'You are a Retail expert with expertise in undertanding SKUs. In your response, mention ONLY the category', human_example1 = \"What is the category of the following SKU SALTED SAN TUNG PEANUT 100G?\" , ai_example1 = f\"Nuts\",  user_input = 'DAHFA FISH FILLET 120G' ):\n",
    "    '''\n",
    "    Prompt template function,\n",
    "    \n",
    "    Input:-\n",
    "    system_message - prompt to design the system\n",
    "    human_example1 - Giving one example question to the llm\n",
    "    ai_example - The answer from llm\n",
    "    user_input - The sku for user input\n",
    "\n",
    "    Returns:-\n",
    "    template.format_messages() - Direct input for the llm\n",
    "    '''\n",
    "    template = ChatPromptTemplate.from_messages([\n",
    "        (\"system\", system_message),\n",
    "        (\"human\", human_example1),\n",
    "        (\"ai\", ai_example1),\n",
    "        (\"human\", f\"What is the category of {user_input}?\"),\n",
    "    ])\n",
    "    return template.format_messages()\n",
    "\n",
    "def output_generation(user_input = 'DAHFA FISH FILLET 120G', system_message = 'You are a Retail expert with expertise in undertanding SKUs. In your response, mention ONLY the category', human_example1 = \"What is the category of the following SKU SALTED SAN TUNG PEANUT 100G?\" , ai_example1 = f\"Nuts\"):\n",
    "    '''This function can be used for output generation for any SKU entry\n",
    "    Input variables remain the same as template_level1\n",
    "    '''\n",
    "    llm = ChatOpenAI(openai_api_key = openai_config['api_key'])\n",
    "    return llm(template_level1(system_message =  system_message, human_example1 = human_example1, ai_example1= ai_example1, user_input = user_input))\n",
    "\n",
    "output_generation(user_input = 'DAHFA FISH FILLET 120G')\n"
   ]
  },
  {
   "cell_type": "code",
   "execution_count": 48,
   "metadata": {},
   "outputs": [
    {
     "name": "stdout",
     "output_type": "stream",
     "text": [
      "VibrantSock Co.\n",
      "ColorSplash Socks\n",
      "RainbowHue Socks\n",
      "ChromaSock\n",
      "SpectrumSock Co.\n",
      "Kaleidosock\n",
      "Tie-Dye Toes\n",
      "Chromatic Threads\n",
      "ColorfulSoles\n",
      "Socktastic\n",
      "Hueful Socks\n",
      "ColorDrenched Co.\n",
      "RainbowThreads\n"
     ]
    }
   ],
   "source": [
    "from langchain.chat_models import ChatOpenAI\n",
    "from langchain.prompts.chat import ChatPromptTemplate, HumanMessagePromptTemplate\n",
    "\n",
    "human_message_prompt = HumanMessagePromptTemplate(\n",
    "        prompt=PromptTemplate(\n",
    "            template=\"What is a good name for a company that makes {product}?\",\n",
    "            input_variables=[\"product\"],\n",
    "        )\n",
    "    )\n",
    "chat_prompt_template = ChatPromptTemplate.from_messages([human_message_prompt])\n",
    "chat = ChatOpenAI(temperature=0.9,openai_api_key = openai_config['api_key'])\n",
    "chain = LLMChain(llm=chat, prompt=chat_prompt_template)\n",
    "print(chain.run(\"colorful socks\"))"
   ]
  },
  {
   "cell_type": "code",
   "execution_count": 49,
   "metadata": {},
   "outputs": [],
   "source": [
    "def template(system_prompt, human_example = \"\", ai_example = \"\", example_on = False):\n",
    "    a = [\n",
    "        (\"system\" , system_prompt + \" \" + \"{level}\" ),\n",
    "    ]\n",
    "    # if example_on == False:\n",
    "    #     a.append((\"human\" , \"what is the \" + \"{level} \" + \"of \" + \"{query}\" + \"?\" ))\n",
    "    #     return ChatPromptTemplate.from_messages(a)\n",
    "    a.append((\"human\" , \"what is the \" + \"{level}\" + \" of the following sku \" + human_example ))\n",
    "    a.append((\"ai\", ai_example ))\n",
    "    a.append((\"human\" , \"what is the \" + \"{level} \" + \"of \" + \"{query}\" + \"?\" ))\n",
    "    return ChatPromptTemplate.from_messages(a)\n",
    "\n",
    "def messages(system_prompt,  query, user_dictionary, level_number, human_example , ai_example = '',):\n",
    "    a = template(system_prompt = system_prompt, human_example = human_example, ai_example = ai_example )\n",
    "    b = a.format_messages(level = user_dictionary[level_number], query = query)\n",
    "    return b"
   ]
  },
  {
   "cell_type": "code",
   "execution_count": null,
   "metadata": {},
   "outputs": [],
   "source": []
  }
 ],
 "metadata": {
  "kernelspec": {
   "display_name": "base",
   "language": "python",
   "name": "python3"
  },
  "language_info": {
   "codemirror_mode": {
    "name": "ipython",
    "version": 3
   },
   "file_extension": ".py",
   "mimetype": "text/x-python",
   "name": "python",
   "nbconvert_exporter": "python",
   "pygments_lexer": "ipython3",
   "version": "3.9.13"
  },
  "orig_nbformat": 4
 },
 "nbformat": 4,
 "nbformat_minor": 2
}
